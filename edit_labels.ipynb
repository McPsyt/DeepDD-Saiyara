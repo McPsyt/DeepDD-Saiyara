{
 "cells": [
  {
   "cell_type": "code",
   "execution_count": 1,
   "id": "40f144d2-ebda-45c2-a404-b4066c4cd3ad",
   "metadata": {},
   "outputs": [],
   "source": [
    "import pandas as pd"
   ]
  },
  {
   "cell_type": "code",
   "execution_count": 9,
   "id": "9f277f9e-fa38-4dde-a84e-1a06afee749f",
   "metadata": {},
   "outputs": [],
   "source": [
    "phq_9 = [\"neutral\",\n",
    "'bad',\n",
    "'neutral',\n",
    "'good',\n",
    "'bad',\n",
    "'neutral',\n",
    "'good',\n",
    "'neutral',\n",
    "'good',\n",
    "'neutral',\n",
    "'bad',\n",
    "'good',\n",
    "'neutral'\n",
    "]"
   ]
  },
  {
   "cell_type": "code",
   "execution_count": 10,
   "id": "0abd9036-2d2c-4188-830f-e0122e6a9177",
   "metadata": {},
   "outputs": [],
   "source": [
    "cgis = [\n",
    "\"neutral\",\n",
    "\"neutral\",\n",
    "\"good\",\n",
    "\"neutral\",\n",
    "\"neutral\",\n",
    "\"neutral\",\n",
    "\"neutral\",\n",
    "\"neutral\",\n",
    "\"neutral\",\n",
    "\"good\",\n",
    "\"neutral\",\n",
    "\"neutral\",\n",
    "\"neutral\"\n",
    "]"
   ]
  },
  {
   "cell_type": "code",
   "execution_count": 4,
   "id": "8de3f750-ad34-4e54-b554-ab6185cf06ec",
   "metadata": {},
   "outputs": [],
   "source": [
    "gad_7 = [\n",
    "\"bad\",\n",
    "\"neutral\",\n",
    "\"neutral\",\n",
    "\"neutral\",\n",
    "\"neutral\",\n",
    "\"neutral\",\n",
    "\"neutral\",\n",
    "\"neutral\",\n",
    "\"neutral\",\n",
    "\"neutral\",\n",
    "\"bad\",\n",
    "\"neutral\",\n",
    "\"good\"\n",
    "]"
   ]
  },
  {
   "cell_type": "code",
   "execution_count": 5,
   "id": "469c0d11-6ea3-40ad-8432-946d5d1eada2",
   "metadata": {},
   "outputs": [],
   "source": [
    "wsas= [\"neutral\",\n",
    "\"neutral\",\n",
    "\"neutral\",\n",
    "\"neutral\",\n",
    "\"neutral\",\n",
    "\"neutral\",\n",
    "\"neutral\",\n",
    "\"neutral\",\n",
    "\"neutral\",\n",
    "\"neutral\",\n",
    "\"neutral\",\n",
    "\"neutral\",\n",
    "\"neutral\"\n",
    "      ]"
   ]
  },
  {
   "cell_type": "code",
   "execution_count": 6,
   "id": "71a6b218-d02b-408f-b2f0-59787bd77ed1",
   "metadata": {},
   "outputs": [],
   "source": [
    "qids=[\"bad\",\n",
    "\"neutral\",\n",
    "\"neutral\",\n",
    "\"bad\",\n",
    "\"bad\",\n",
    "\"neutral\",\n",
    "\"good\",\n",
    "\"neutral\",\n",
    "\"good\",\n",
    "\"neutral\",\n",
    "\"neutral\",\n",
    "\"neutral\",\n",
    "\"neutral\"\n",
    "]"
   ]
  },
  {
   "cell_type": "code",
   "execution_count": 11,
   "id": "fc262891-ea94-412a-b2a3-2d04547bd1fe",
   "metadata": {},
   "outputs": [
    {
     "name": "stdout",
     "output_type": "stream",
     "text": [
      "13\n"
     ]
    }
   ],
   "source": [
    "df = pd.read_csv(\"cleaned_parquet/007/labels.csv\")\n",
    "print(len(phq_9))\n",
    "df[\"phq_9\"] = phq_9\n",
    "df[\"cgis\"] = cgis\n",
    "df[\"gad_7\"] = gad_7\n",
    "df[\"wsas\"] = wsas\n",
    "df[\"qids\"] = qids"
   ]
  },
  {
   "cell_type": "code",
   "execution_count": 12,
   "id": "f9f63d76-9035-42cf-8d1d-f3e4448c68a0",
   "metadata": {},
   "outputs": [],
   "source": [
    "df.to_csv(\"cleaned_parquet/007/labels.csv\")"
   ]
  },
  {
   "cell_type": "code",
   "execution_count": null,
   "id": "09a6ed5a-ea8a-4663-b8fd-0b9b61adc32e",
   "metadata": {},
   "outputs": [],
   "source": []
  }
 ],
 "metadata": {
  "kernelspec": {
   "display_name": "virtual_env2",
   "language": "python",
   "name": "virtual_env"
  },
  "language_info": {
   "codemirror_mode": {
    "name": "ipython",
    "version": 3
   },
   "file_extension": ".py",
   "mimetype": "text/x-python",
   "name": "python",
   "nbconvert_exporter": "python",
   "pygments_lexer": "ipython3",
   "version": "3.12.3"
  }
 },
 "nbformat": 4,
 "nbformat_minor": 5
}
