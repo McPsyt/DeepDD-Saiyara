{
 "cells": [
  {
   "cell_type": "code",
   "execution_count": 1,
   "id": "41780898-a177-4862-870c-cb8ef86c941b",
   "metadata": {},
   "outputs": [],
   "source": [
    "import torch\n",
    "import torch.nn as nn\n",
    "from torch.utils.data import Dataset, DataLoader, random_split\n",
    "import pandas as pd\n",
    "import numpy as np\n",
    "import math"
   ]
  },
  {
   "cell_type": "code",
   "execution_count": 2,
   "id": "96689ea3-4cdf-4908-9195-f568d9d17a5c",
   "metadata": {},
   "outputs": [],
   "source": [
    "def random_start_indices(start, end, num_samples):\n",
    "    return np.random.randint(start, end, num_samples)"
   ]
  },
  {
   "cell_type": "code",
   "execution_count": 3,
   "id": "32725607-4044-4abb-bc19-37f1d00ffa32",
   "metadata": {},
   "outputs": [],
   "source": [
    "i_3 = random_start_indices(start=32558400,end=118958399, num_samples =1500)\n",
    "i_4 = random_start_indices(start=0, end=35360700, num_samples=1500)\n",
    "i_6 = random_start_indices(start=57993700,end=114153699, num_samples =1500)"
   ]
  },
  {
   "cell_type": "code",
   "execution_count": 4,
   "id": "41d53653-210f-4865-b9ae-8777562e7d9d",
   "metadata": {},
   "outputs": [],
   "source": [
    "def get_selected_rows(parquet_path, indices, csv_path, chunk_size):\n",
    "    df = pd.read_parquet(parquet_path)\n",
    "    rows= []\n",
    "    for index in indices:\n",
    "        for i in range(chunk_size):\n",
    "            rows.append(df.loc[index+i*100])\n",
    "\n",
    "    df = pd.DataFrame(rows)\n",
    "    df.to_csv(csv_path)"
   ]
  },
  {
   "cell_type": "code",
   "execution_count": 54,
   "id": "3b8f8395-058c-4771-b31a-d63fdad7f939",
   "metadata": {},
   "outputs": [],
   "source": [
    "get_selected_rows(parquet_path=\"./cleaned_parquet/007/Month 2/DD072024007_left wrist_101697_2024-09-18 11-15-01.parquet\", indices=i_2, csv_path=\"month_2.csv\", chunk_size=10)"
   ]
  },
  {
   "cell_type": "code",
   "execution_count": 5,
   "id": "4bf83ef8-5547-40ad-a81f-e83b7351c7af",
   "metadata": {},
   "outputs": [],
   "source": [
    "get_selected_rows(parquet_path=\"cleaned_parquet/007/Month 3/DD072024007_left wrist_101696_2024-10-22 15-22-36.parquet\", indices=i_3, csv_path=\"month_3.csv\", chunk_size=10)"
   ]
  },
  {
   "cell_type": "code",
   "execution_count": 6,
   "id": "49ccdfa5-95aa-4ec3-bd1e-8e3cb3bce8f9",
   "metadata": {},
   "outputs": [],
   "source": [
    "get_selected_rows(parquet_path=\"cleaned_parquet/007/Month 4/DD072024007_left wrist_101697_2024-11-20 13-12-43.parquet\", indices=i_4, csv_path=\"month_4.csv\", chunk_size=10)"
   ]
  },
  {
   "cell_type": "code",
   "execution_count": 57,
   "id": "4a3cda19-2292-4606-b604-1727c105f9e3",
   "metadata": {},
   "outputs": [],
   "source": [
    "get_selected_rows(parquet_path=\"cleaned_parquet/007/Month 5/DD072024007_left wrist_101699_2024-11-19 10-32-50.parquet\", indices=i_5, csv_path=\"month_5.csv\", chunk_size=10)"
   ]
  },
  {
   "cell_type": "code",
   "execution_count": 7,
   "id": "8bd5fc87-60fd-4193-9cc2-02d47f5f3041",
   "metadata": {},
   "outputs": [],
   "source": [
    "get_selected_rows(parquet_path=\"cleaned_parquet/007/Month 6/DD072024007_left wrist_101696_2025-01-30 13-12-54.parquet\", indices=i_6, csv_path=\"month_6.csv\", chunk_size=10)"
   ]
  },
  {
   "cell_type": "code",
   "execution_count": 59,
   "id": "8486f3ea-b189-4497-8798-a315dab1d616",
   "metadata": {},
   "outputs": [],
   "source": [
    "get_selected_rows(parquet_path=\"cleaned_parquet/007/Month 7/DD072024007__100889_2025-03-26 12-05-58.parquet\", indices=i_7, csv_path=\"month_7.csv\", chunk_size=10)"
   ]
  },
  {
   "cell_type": "code",
   "execution_count": 12,
   "id": "858a6b43-77d0-4c3d-bb54-3ef8e79e5edb",
   "metadata": {},
   "outputs": [],
   "source": [
    "def labeling_a_seq(seq_start_date, seq_end_date, df_labels):\n",
    "    df_labels[\"start_date\"] = pd.to_datetime(df_labels[\"start_date\"])\n",
    "    df_labels[\"end_date\"] = pd.to_datetime(df_labels[\"end_date\"])\n",
    "    for i in range(len(df_labels[\"average\"])):\n",
    "        if df_labels[\"start_date\"].iloc[i] < seq_start_date and df_labels[\"end_date\"].iloc[i] > seq_end_date:\n",
    "            return df_labels[\"average\"].iloc[i]\n",
    "    "
   ]
  },
  {
   "cell_type": "code",
   "execution_count": 13,
   "id": "043a6b91-9c81-4ee2-94a7-a859692a7ad4",
   "metadata": {},
   "outputs": [
    {
     "data": {
      "text/plain": [
       "'neutral'"
      ]
     },
     "execution_count": 13,
     "metadata": {},
     "output_type": "execute_result"
    }
   ],
   "source": [
    "df_labels = pd.read_csv(\"cleaned_parquet/007/labels.csv\")\n",
    "seq_start_date= pd.to_datetime(\"2024-10-07\")\n",
    "seq_end_date=pd.to_datetime(\"2024-10-07\")\n",
    "\n",
    "labeling_a_seq(seq_start_date, seq_end_date, df_labels)"
   ]
  },
  {
   "cell_type": "code",
   "execution_count": 14,
   "id": "d60af141-858f-4a36-952c-28bf92f08daa",
   "metadata": {},
   "outputs": [],
   "source": [
    "def label_seqs(csv_path, seq_start_date, seq_end_date):\n",
    "    df = pd.read_csv(csv_path)\n",
    "    df[\"date\"] = pd.to_datetime(df[\"date\"])\n",
    "    df_labels = pd.read_csv(\"cleaned_parquet/007/labels.csv\")\n",
    "    labels=[]\n",
    "\n",
    "    for i in range(0, len(df[\"date\"]), 10):\n",
    "        label = labeling_a_seq(seq_start_date, seq_end_date, df_labels)\n",
    "        for j in range(10):\n",
    "            labels.append(label)\n",
    "\n",
    "    df[\"label\"] = labels\n",
    "    return df"
   ]
  },
  {
   "cell_type": "code",
   "execution_count": 18,
   "id": "e6d8f290-92d3-4f9a-b85d-fe3b49b3a236",
   "metadata": {},
   "outputs": [],
   "source": [
    "def label(csv_path, l):\n",
    "    df = pd.read_csv(csv_path)\n",
    "    labels = np.full(15000,l)\n",
    "    df[\"label\"] = labels\n",
    "    return df"
   ]
  },
  {
   "cell_type": "code",
   "execution_count": 19,
   "id": "ef9dd717-0169-4000-b77e-ba246fe0f389",
   "metadata": {},
   "outputs": [],
   "source": [
    "df_3 = label(csv_path=\"cleaned_parquet/007/month_3.csv\", l = \"neutral\")\n",
    "df_4 = label(csv_path=\"cleaned_parquet/007/month_4.csv\", l = \"bad\")\n",
    "df_6 = label(csv_path=\"cleaned_parquet/007/month_6.csv\", l = \"good\")\n",
    "\n",
    "df_all = pd.concat([df_3, df_4, df_6])\n",
    "df_all.to_csv(\"cleaned_parquet/007/sample.csv\")"
   ]
  },
  {
   "cell_type": "code",
   "execution_count": 10,
   "id": "431ff60a-2f60-4c00-9c56-f2dd6168d05c",
   "metadata": {},
   "outputs": [],
   "source": []
  },
  {
   "cell_type": "code",
   "execution_count": null,
   "id": "86802652-b8af-4f47-9c0e-501bca9f978d",
   "metadata": {},
   "outputs": [],
   "source": []
  }
 ],
 "metadata": {
  "kernelspec": {
   "display_name": "virtual_env2",
   "language": "python",
   "name": "virtual_env"
  },
  "language_info": {
   "codemirror_mode": {
    "name": "ipython",
    "version": 3
   },
   "file_extension": ".py",
   "mimetype": "text/x-python",
   "name": "python",
   "nbconvert_exporter": "python",
   "pygments_lexer": "ipython3",
   "version": "3.12.3"
  }
 },
 "nbformat": 4,
 "nbformat_minor": 5
}
