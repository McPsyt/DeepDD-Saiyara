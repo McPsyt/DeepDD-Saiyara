{
 "cells": [
  {
   "cell_type": "code",
   "execution_count": 1,
   "id": "41780898-a177-4862-870c-cb8ef86c941b",
   "metadata": {},
   "outputs": [],
   "source": [
    "import torch\n",
    "import torch.nn as nn\n",
    "from torch.utils.data import Dataset, DataLoader, random_split\n",
    "import pandas as pd\n",
    "import numpy as np\n",
    "import math"
   ]
  },
  {
   "cell_type": "code",
   "execution_count": 2,
   "id": "96689ea3-4cdf-4908-9195-f568d9d17a5c",
   "metadata": {},
   "outputs": [],
   "source": [
    "def random_start_indices(start, end, num_samples):\n",
    "    return np.random.randint(start, end, num_samples)"
   ]
  },
  {
   "cell_type": "code",
   "execution_count": 3,
   "id": "32725607-4044-4abb-bc19-37f1d00ffa32",
   "metadata": {},
   "outputs": [],
   "source": [
    "i_2 = random_start_indices(start=0, end=8170499, num_samples = 4000)\n",
    "i_3 = random_start_indices(start=32558400,end=118958399, num_samples =4000)\n",
    "i_4 = random_start_indices(start=0, end=35360700, num_samples=4000)\n",
    "i_5 = random_start_indices(start=0, end=117653000, num_samples= 4000)\n",
    "i_6 = random_start_indices(start=57993700,end=114153699, num_samples =4000)\n",
    "i_7 = random_start_indices(start=0, end =123636300, num_samples= 4000)"
   ]
  },
  {
   "cell_type": "code",
   "execution_count": 4,
   "id": "41d53653-210f-4865-b9ae-8777562e7d9d",
   "metadata": {},
   "outputs": [],
   "source": [
    "def get_selected_rows(parquet_path, indices, csv_path, chunk_size):\n",
    "    df = pd.read_parquet(parquet_path)\n",
    "    rows= []\n",
    "    for index in indices:\n",
    "        for i in range(chunk_size):\n",
    "            rows.append(df.loc[index+i*50])\n",
    "\n",
    "    df = pd.DataFrame(rows)\n",
    "    df.to_csv(csv_path)"
   ]
  },
  {
   "cell_type": "code",
   "execution_count": 15,
   "id": "3b8f8395-058c-4771-b31a-d63fdad7f939",
   "metadata": {},
   "outputs": [],
   "source": [
    "get_selected_rows(parquet_path=\"./cleaned_parquet/007/Month 2/DD072024007_left wrist_101697_2024-09-18 11-15-01.parquet\", indices=i_2, csv_path=\"month_2.csv\", chunk_size=50)"
   ]
  },
  {
   "cell_type": "code",
   "execution_count": 16,
   "id": "4bf83ef8-5547-40ad-a81f-e83b7351c7af",
   "metadata": {},
   "outputs": [],
   "source": [
    "get_selected_rows(parquet_path=\"cleaned_parquet/007/Month 3/DD072024007_left wrist_101696_2024-10-22 15-22-36.parquet\", indices=i_3, csv_path=\"month_3.csv\", chunk_size=50)"
   ]
  },
  {
   "cell_type": "code",
   "execution_count": 17,
   "id": "49ccdfa5-95aa-4ec3-bd1e-8e3cb3bce8f9",
   "metadata": {},
   "outputs": [],
   "source": [
    "get_selected_rows(parquet_path=\"cleaned_parquet/007/Month 4/DD072024007_left wrist_101697_2024-11-20 13-12-43.parquet\", indices=i_4, csv_path=\"month_4.csv\", chunk_size=50)"
   ]
  },
  {
   "cell_type": "code",
   "execution_count": 5,
   "id": "4a3cda19-2292-4606-b604-1727c105f9e3",
   "metadata": {},
   "outputs": [],
   "source": [
    "get_selected_rows(parquet_path=\"cleaned_parquet/007/Month 5/DD072024007_left wrist_101699_2024-11-19 10-32-50.parquet\", indices=i_5, csv_path=\"month_5.csv\", chunk_size=50)"
   ]
  },
  {
   "cell_type": "code",
   "execution_count": 6,
   "id": "8bd5fc87-60fd-4193-9cc2-02d47f5f3041",
   "metadata": {},
   "outputs": [],
   "source": [
    "get_selected_rows(parquet_path=\"cleaned_parquet/007/Month 6/DD072024007_left wrist_101696_2025-01-30 13-12-54.parquet\", indices=i_6, csv_path=\"month_6.csv\", chunk_size=50)"
   ]
  },
  {
   "cell_type": "code",
   "execution_count": 7,
   "id": "8486f3ea-b189-4497-8798-a315dab1d616",
   "metadata": {},
   "outputs": [],
   "source": [
    "get_selected_rows(parquet_path=\"cleaned_parquet/007/Month 7/DD072024007__100889_2025-03-26 12-05-58.parquet\", indices=i_7, csv_path=\"month_7.csv\", chunk_size=50)"
   ]
  },
  {
   "cell_type": "code",
   "execution_count": 5,
   "id": "858a6b43-77d0-4c3d-bb54-3ef8e79e5edb",
   "metadata": {},
   "outputs": [],
   "source": [
    "def labeling_a_seq(seq_start_date, seq_end_date, df_labels):\n",
    "    df_labels[\"start_date\"] = pd.to_datetime(df_labels[\"start_date\"])\n",
    "    df_labels[\"end_date\"] = pd.to_datetime(df_labels[\"end_date\"])\n",
    "    for i in range(len(df_labels[\"average\"])):\n",
    "        if df_labels[\"start_date\"].iloc[i] <= seq_start_date and df_labels[\"end_date\"].iloc[i] >= seq_end_date:\n",
    "            \n",
    "            return [df_labels[\"average\"].iloc[i], df_labels[\"phq_9\"].iloc[i], df_labels[\"cgis\"].iloc[i], df_labels[\"gad_7\"].iloc[i], df_labels[\"wsas\"].iloc[i], df_labels[\"qids\"].iloc[i]]"
   ]
  },
  {
   "cell_type": "code",
   "execution_count": null,
   "id": "a55b809c-98fd-493e-8168-18ca38496fec",
   "metadata": {},
   "outputs": [],
   "source": [
    "def label_seqs(csv_file, loc): #this code is couples to the the csv_file as well as seq length.\n",
    "    #change the number of rows of df_features you need and the seq length accordingly\n",
    "    labels = []\n",
    "    df_labels = pd.read_csv(\"cleaned_parquet/007/labels.csv\")\n",
    "    df_features = pd.read_csv(csv_file)\n",
    "    df_features = df_features.head(180950)\n",
    "    print(df_features)\n",
    "    #every 50th row is the start of a new seq. If seq_len is then then replace 50 by 10 below\n",
    "    for i in range(0, len(df_features[\"date\"]), 50):\n",
    "        seq_start_date = pd.to_datetime(df_features[\"date_only\"].iloc[i])\n",
    "        labels.append(labeling_a_seq(seq_start_date, seq_start_date, df_labels))\n",
    "        print(i)\n",
    "    print(len(labels))\n",
    "\n",
    "    labels = np.array(labels)\n",
    "    df_y = pd.DataFrame()\n",
    "    df_y[\"average\"] = labels[:, 0]\n",
    "    df_y[\"phq_9\"] = labels[:, 1]\n",
    "    df_y[\"cgis\"] = labels[:, 2]\n",
    "    df_y[\"gad_7\"] = labels[:, 3]\n",
    "    df_y[\"wsas\"] = labels[:, 4]\n",
    "    df_y[\"qids\"] = labels[:, 5]\n",
    "\n",
    "    df_y.to_csv(loc)"
   ]
  },
  {
   "cell_type": "code",
   "execution_count": 6,
   "id": "043a6b91-9c81-4ee2-94a7-a859692a7ad4",
   "metadata": {},
   "outputs": [
    {
     "data": {
      "text/plain": [
       "['bad', 'bad', 'neutral', 'neutral', 'neutral', 'bad']"
      ]
     },
     "execution_count": 6,
     "metadata": {},
     "output_type": "execute_result"
    }
   ],
   "source": [
    "df_labels = pd.read_csv(\"cleaned_parquet/007/labels.csv\")\n",
    "a_start_date= pd.to_datetime(\"2024-10-16\")\n",
    "a_end_date=pd.to_datetime(\"2024-10-17\")\n",
    "\n",
    "labeling_a_seq(a_start_date, a_end_date, df_labels)"
   ]
  },
  {
   "cell_type": "code",
   "execution_count": 15,
   "id": "c9ec4bd1-2dab-4b00-88f6-aa967107980f",
   "metadata": {},
   "outputs": [],
   "source": [
    "for i in range(2, 8):\n",
    "    label_seqs(csv_file=f\"cleaned_parquet/007/month_{i}.csv\", loc=f\"cleaned_parquet/007/month_{i}_labels.csv\")"
   ]
  },
  {
   "cell_type": "code",
   "execution_count": 18,
   "id": "e6d8f290-92d3-4f9a-b85d-fe3b49b3a236",
   "metadata": {},
   "outputs": [],
   "source": [
    "def label_manually(csv_path, l):\n",
    "    df = pd.read_csv(csv_path)\n",
    "    labels = np.full(15000,l)\n",
    "    df[\"label\"] = labels\n",
    "    return df"
   ]
  },
  {
   "cell_type": "code",
   "execution_count": 19,
   "id": "ef9dd717-0169-4000-b77e-ba246fe0f389",
   "metadata": {},
   "outputs": [],
   "source": [
    "df_3 = label_manually(csv_path=\"cleaned_parquet/007/month_3.csv\", l = \"neutral\")\n",
    "df_4 = label_manually(csv_path=\"cleaned_parquet/007/month_4.csv\", l = \"bad\")\n",
    "df_6 = label_manually(csv_path=\"cleaned_parquet/007/month_6.csv\", l = \"good\")\n",
    "\n",
    "df_all = pd.concat([df_3, df_4, df_6])\n",
    "df_all.to_csv(\"cleaned_parquet/007/sample.csv\")"
   ]
  },
  {
   "cell_type": "code",
   "execution_count": 16,
   "id": "b4eafde5-de99-4645-b8db-ae8272dee7a5",
   "metadata": {},
   "outputs": [],
   "source": [
    "'''\n",
    "df_2 = pd.read_csv(\"cleaned_parquet/007/month_2.csv\")\n",
    "df_3 = pd.read_csv(\"cleaned_parquet/007/month_3.csv\")\n",
    "df_4 = pd.read_csv(\"cleaned_parquet/007/month_4.csv\")\n",
    "df_5 = pd.read_csv(\"cleaned_parquet/007/month_5.csv\")\n",
    "df_6 = pd.read_csv(\"cleaned_parquet/007/month_6.csv\")\n",
    "df_7 = pd.read_csv(\"cleaned_parquet/007/month_7.csv\")\n",
    "'''\n",
    "df_l_2=pd.read_csv(\"cleaned_parquet/007/month_2_labels.csv\")\n",
    "df_l_3=pd.read_csv(\"cleaned_parquet/007/month_3_labels.csv\")\n",
    "df_l_4=pd.read_csv(\"cleaned_parquet/007/month_4_labels.csv\")\n",
    "df_l_5=pd.read_csv(\"cleaned_parquet/007/month_5_labels.csv\")\n",
    "df_l_6=pd.read_csv(\"cleaned_parquet/007/month_6_labels.csv\")\n",
    "df_l_7=pd.read_csv(\"cleaned_parquet/007/month_7_labels.csv\")"
   ]
  },
  {
   "cell_type": "code",
   "execution_count": 17,
   "id": "431ff60a-2f60-4c00-9c56-f2dd6168d05c",
   "metadata": {},
   "outputs": [],
   "source": [
    "#df_all = pd.concat([df_2, df_3, df_4, df_5, df_6, df_7])\n",
    "#df_all.to_csv(\"cleaned_parquet/007/sample_features.csv\")\n",
    "df_labels_all = pd.concat([df_l_2, df_l_3, df_l_4, df_l_5, df_l_6, df_l_7])\n",
    "df_labels_all.to_csv(\"cleaned_parquet/007/sample_labels.csv\")"
   ]
  },
  {
   "cell_type": "code",
   "execution_count": null,
   "id": "86802652-b8af-4f47-9c0e-501bca9f978d",
   "metadata": {},
   "outputs": [],
   "source": []
  }
 ],
 "metadata": {
  "kernelspec": {
   "display_name": "virtual_env2",
   "language": "python",
   "name": "virtual_env"
  },
  "language_info": {
   "codemirror_mode": {
    "name": "ipython",
    "version": 3
   },
   "file_extension": ".py",
   "mimetype": "text/x-python",
   "name": "python",
   "nbconvert_exporter": "python",
   "pygments_lexer": "ipython3",
   "version": "3.12.3"
  }
 },
 "nbformat": 4,
 "nbformat_minor": 5
}
