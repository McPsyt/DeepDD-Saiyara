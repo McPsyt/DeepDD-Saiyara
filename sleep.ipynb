{
 "cells": [
  {
   "cell_type": "code",
   "execution_count": 1,
   "id": "a8b1e281",
   "metadata": {},
   "outputs": [],
   "source": [
    "import pandas as pd\n",
    "import numpy as np\n",
    "import torch\n",
    "import math"
   ]
  },
  {
   "cell_type": "code",
   "execution_count": 16,
   "id": "70cd417f-2bc0-43d1-ae02-65aa22210a8e",
   "metadata": {},
   "outputs": [],
   "source": [
    "def format_date(date_string):\n",
    "    splitted = date_string.split(\"/\")\n",
    "    new_string = splitted[2]+\"-\"+splitted[1]+\"-\"+splitted[0]\n",
    "    return new_string\n"
   ]
  },
  {
   "cell_type": "code",
   "execution_count": 17,
   "id": "4f8cab70-f8e7-42a8-a546-6b955feb9c87",
   "metadata": {},
   "outputs": [],
   "source": [
    "def time_encoding(time):\n",
    "    splitted = time.split(\":\")\n",
    "    hour = int(splitted[0])\n",
    "    minute = int(splitted[1])\n",
    "    second = int(splitted[2])\n",
    "    l = [hour, minute, second]\n",
    "    arr = np.array(l, dtype=np.float64)\n",
    "\n",
    "    arr[1] /= 60\n",
    "    arr[2] /= 3600\n",
    "\n",
    "\n",
    "    total_hours = arr[0] + arr[1] + arr[2]\n",
    "\n",
    "    return total_hours/24"
   ]
  },
  {
   "cell_type": "code",
   "execution_count": 18,
   "id": "158a3d50-11a2-4799-a1cf-bf96891c3273",
   "metadata": {},
   "outputs": [],
   "source": [
    "def features_encoding(df, feature):\n",
    "    df[feature] = df[feature].astype(float)\n",
    "    mean = df[feature].mean()\n",
    "    sd = math.sqrt(df[feature].var())\n",
    "    df[feature] = (df[feature]-mean)/sd\n",
    "    return df"
   ]
  },
  {
   "cell_type": "code",
   "execution_count": 19,
   "id": "3d32be68-684c-4bb8-9744-be91974516d6",
   "metadata": {},
   "outputs": [],
   "source": [
    "df_sleep = pd.read_csv(\"minute_data_007_youcef/007_longitudinal_df_dylan.csv\")\n",
    "df_encoded = pd.read_csv(\"minute_data_007_youcef/encoded.csv\")"
   ]
  },
  {
   "cell_type": "code",
   "execution_count": 20,
   "id": "34dec518-d8df-4f43-b519-77d711b2f777",
   "metadata": {},
   "outputs": [],
   "source": [
    "df_sleep[\"Date\"] = df_sleep[\"Date\"].apply(format_date)\n",
    "df_sleep[\"date_only\"] = df_sleep[\"Date\"]\n",
    "df_sleep[\"Sleep.Onset.Time\"] = df_sleep[\"Sleep.Onset.Time\"].apply(time_encoding)\n",
    "df_sleep[\"Rise.Time\"] = df_sleep[\"Rise.Time\"].apply(time_encoding)\n",
    "\n",
    "for i in range(3, len(df_sleep.columns)-1):\n",
    "    df_sleep = features_encoding(df_sleep, df_sleep.columns[i])\n",
    "    \n",
    "    "
   ]
  },
  {
   "cell_type": "code",
   "execution_count": 13,
   "id": "f5cfcf55-a4cb-4c54-a545-387a581cb59c",
   "metadata": {},
   "outputs": [
    {
     "name": "stdout",
     "output_type": "stream",
     "text": [
      "        Unnamed: 0.2  Unnamed: 0.1  Unnamed: 0                     date  \\\n",
      "0                  0             0       39524  2024-08-20 00:00:34:000   \n",
      "1                  1             1       39525  2024-08-20 00:01:34:000   \n",
      "2                  2             2       39526  2024-08-20 00:02:34:000   \n",
      "3                  3             3       39527  2024-08-20 00:03:34:000   \n",
      "4                  4             4       39528  2024-08-20 00:04:34:000   \n",
      "...              ...           ...         ...                      ...   \n",
      "128823        132117        132117      171641  2025-01-10 23:55:46:000   \n",
      "128824        132118        132118      171642  2025-01-10 23:56:46:000   \n",
      "128825        132119        132119      171643  2025-01-10 23:57:46:000   \n",
      "128826        132120        132120      171644  2025-01-10 23:58:46:000   \n",
      "128827        132121        132121      171645  2025-01-10 23:59:46:000   \n",
      "\n",
      "        Accelerometer_X  Accelerometer_Y  Accelerometer_Z  Light_Lux  \\\n",
      "0              0.585266        -1.260331        -1.284684  -0.094671   \n",
      "1              0.586307        -1.260549        -1.283823  -0.094671   \n",
      "2              0.587348        -1.260114        -1.283479  -0.094671   \n",
      "3              0.588041        -1.259679        -1.283823  -0.094671   \n",
      "4              0.588908        -1.259679        -1.282618  -0.094671   \n",
      "...                 ...              ...              ...        ...   \n",
      "128823         1.594117         0.647339        -0.674413  -0.094671   \n",
      "128824         1.593944         0.647557        -0.674413  -0.094671   \n",
      "128825         1.593597         0.647775        -0.674413  -0.094671   \n",
      "128826         1.593944         0.647775        -0.674068  -0.094671   \n",
      "128827         1.594117         0.647557        -0.673724  -0.094671   \n",
      "\n",
      "        Temperature_C   date_only  ... Median.Activity.Length  \\\n",
      "0            0.852032  2024-08-20  ...              -0.511939   \n",
      "1            0.904552  2024-08-20  ...              -0.511939   \n",
      "2            0.904552  2024-08-20  ...              -0.511939   \n",
      "3            0.904552  2024-08-20  ...              -0.511939   \n",
      "4            0.904552  2024-08-20  ...              -0.511939   \n",
      "...               ...         ...  ...                    ...   \n",
      "128823       1.587308  2025-01-10  ...              -0.991881   \n",
      "128824       1.587308  2025-01-10  ...              -0.991881   \n",
      "128825       1.587308  2025-01-10  ...              -0.991881   \n",
      "128826       1.587308  2025-01-10  ...              -0.991881   \n",
      "128827       1.587308  2025-01-10  ...              -0.991881   \n",
      "\n",
      "        sleep_onset_minutes  rise_time_minutes     Steps  Non_Wear     Sleep  \\\n",
      "0                  0.026697           0.505671 -0.818864 -0.106249  0.012647   \n",
      "1                  0.026697           0.505671 -0.818864 -0.106249  0.012647   \n",
      "2                  0.026697           0.505671 -0.818864 -0.106249  0.012647   \n",
      "3                  0.026697           0.505671 -0.818864 -0.106249  0.012647   \n",
      "4                  0.026697           0.505671 -0.818864 -0.106249  0.012647   \n",
      "...                     ...                ...       ...       ...       ...   \n",
      "128823            -1.519872          -0.590515  0.318807 -0.106249 -1.752010   \n",
      "128824            -1.519872          -0.590515  0.318807 -0.106249 -1.752010   \n",
      "128825            -1.519872          -0.590515  0.318807 -0.106249 -1.752010   \n",
      "128826            -1.519872          -0.590515  0.318807 -0.106249 -1.752010   \n",
      "128827            -1.519872          -0.590515  0.318807 -0.106249 -1.752010   \n",
      "\n",
      "        Sedentary     Light  Moderate  Vigorous  \n",
      "0        0.687672 -0.787731 -0.260587 -0.026414  \n",
      "1        0.687672 -0.787731 -0.260587 -0.026414  \n",
      "2        0.687672 -0.787731 -0.260587 -0.026414  \n",
      "3        0.687672 -0.787731 -0.260587 -0.026414  \n",
      "4        0.687672 -0.787731 -0.260587 -0.026414  \n",
      "...           ...       ...       ...       ...  \n",
      "128823   2.468640 -0.068513 -0.210814  0.013590  \n",
      "128824   2.468640 -0.068513 -0.210814  0.013590  \n",
      "128825   2.468640 -0.068513 -0.210814  0.013590  \n",
      "128826   2.468640 -0.068513 -0.210814  0.013590  \n",
      "128827   2.468640 -0.068513 -0.210814  0.013590  \n",
      "\n",
      "[128828 rows x 31 columns]\n"
     ]
    }
   ],
   "source": [
    "df = pd.merge(df_encoded, df_sleep, on='date_only', how='inner')\n",
    "print(df)"
   ]
  },
  {
   "cell_type": "code",
   "execution_count": null,
   "id": "600f0e4f-7fa5-4a93-9f62-04fb078a2395",
   "metadata": {},
   "outputs": [],
   "source": [
    "df = df.drop(columns=['Unnamed: 0.2', 'Unnamed: 0.1', 'Unnamed: 0', \"Date\"])\n",
    "df.to_csv(\"minute_data_007_youcef/sleep+encoded.csv\", index = False)"
   ]
  },
  {
   "cell_type": "code",
   "execution_count": 5,
   "id": "1a2d3623-fb8e-470f-b8db-d7ff1a431c77",
   "metadata": {},
   "outputs": [],
   "source": [
    "def labeling_a_seq(seq_start_date, seq_end_date, df_labels):\n",
    "    df_labels[\"start_date\"] = pd.to_datetime(df_labels[\"start_date\"])\n",
    "    df_labels[\"end_date\"] = pd.to_datetime(df_labels[\"end_date\"])\n",
    "    for i in range(len(df_labels[\"average\"])):\n",
    "        if df_labels[\"start_date\"].iloc[i] <= seq_start_date and df_labels[\"end_date\"].iloc[i] >= seq_end_date:\n",
    "            \n",
    "            return [df_labels[\"average\"].iloc[i], df_labels[\"phq_9\"].iloc[i], df_labels[\"cgis\"].iloc[i], df_labels[\"gad_7\"].iloc[i], df_labels[\"wsas\"].iloc[i], df_labels[\"qids\"].iloc[i]]"
   ]
  },
  {
   "cell_type": "code",
   "execution_count": 7,
   "id": "2776c045-9a1a-433b-ba9e-068e354d4dba",
   "metadata": {},
   "outputs": [],
   "source": [
    "def label_seqs(csv_file, loc):\n",
    "    labels = []\n",
    "    df_labels = pd.read_csv(\"cleaned_parquet/007/labels.csv\")\n",
    "    df_features = pd.read_csv(csv_file)\n",
    "    df_features = df_features.head(128800)\n",
    "    print(df_features)\n",
    "    #every 50th row is the start of a new seq\n",
    "    for i in range(0, len(df_features), 50):\n",
    "        seq_start_date = pd.to_datetime(df_features[\"date_only\"].iloc[i])\n",
    "        labels.append(labeling_a_seq(seq_start_date, seq_start_date, df_labels))\n",
    "    print(len(labels))\n",
    "\n",
    "    labels = np.array(labels)\n",
    "    df_y = pd.DataFrame()\n",
    "    df_y[\"average\"] = labels[:, 0]\n",
    "    df_y[\"phq_9\"] = labels[:, 1]\n",
    "    df_y[\"cgis\"] = labels[:, 2]\n",
    "    df_y[\"gad_7\"] = labels[:, 3]\n",
    "    df_y[\"wsas\"] = labels[:, 4]\n",
    "    df_y[\"qids\"] = labels[:, 5]\n",
    "\n",
    "    df_y.to_csv(loc)"
   ]
  },
  {
   "cell_type": "code",
   "execution_count": 8,
   "id": "81e719d8-aaae-4798-ba0e-8cdf3e3a3efa",
   "metadata": {},
   "outputs": [
    {
     "name": "stdout",
     "output_type": "stream",
     "text": [
      "                           date  Accelerometer_X  Accelerometer_Y  \\\n",
      "0       2024-08-20 00:00:34:000         0.585266        -1.260331   \n",
      "1       2024-08-20 00:01:34:000         0.586307        -1.260549   \n",
      "2       2024-08-20 00:02:34:000         0.587348        -1.260114   \n",
      "3       2024-08-20 00:03:34:000         0.588041        -1.259679   \n",
      "4       2024-08-20 00:04:34:000         0.588908        -1.259679   \n",
      "...                         ...              ...              ...   \n",
      "128795  2025-01-10 23:27:46:000        -0.310334         0.084327   \n",
      "128796  2025-01-10 23:28:46:000         0.091507         0.093464   \n",
      "128797  2025-01-10 23:29:46:000         0.522484        -0.239600   \n",
      "128798  2025-01-10 23:30:46:000         0.907155        -0.171943   \n",
      "128799  2025-01-10 23:31:46:000         1.586833         0.633852   \n",
      "\n",
      "        Accelerometer_Z  Light_Lux  Temperature_C   date_only          time  \\\n",
      "0             -1.284684  -0.094671       0.852032  2024-08-20  00:00:34:000   \n",
      "1             -1.283823  -0.094671       0.904552  2024-08-20  00:01:34:000   \n",
      "2             -1.283479  -0.094671       0.904552  2024-08-20  00:02:34:000   \n",
      "3             -1.283823  -0.094671       0.904552  2024-08-20  00:03:34:000   \n",
      "4             -1.282618  -0.094671       0.904552  2024-08-20  00:04:34:000   \n",
      "...                 ...        ...            ...         ...           ...   \n",
      "128795        -1.705299  -0.094671       1.324709  2025-01-10  23:27:46:000   \n",
      "128796        -1.683442  -0.094671       1.245930  2025-01-10  23:28:46:000   \n",
      "128797        -1.614602  -0.094671       1.062111  2025-01-10  23:29:46:000   \n",
      "128798        -0.976622  -0.094671       0.983331  2025-01-10  23:30:46:000   \n",
      "128799        -0.686288  -0.094671       1.062111  2025-01-10  23:31:46:000   \n",
      "\n",
      "        date_encoded  time_encoded  ...  Median.Activity.Length  \\\n",
      "0           0.142857      0.000394  ...               -0.511939   \n",
      "1           0.142857      0.001088  ...               -0.511939   \n",
      "2           0.142857      0.001782  ...               -0.511939   \n",
      "3           0.142857      0.002477  ...               -0.511939   \n",
      "4           0.142857      0.003171  ...               -0.511939   \n",
      "...              ...           ...  ...                     ...   \n",
      "128795      0.571429      0.977616  ...               -0.991881   \n",
      "128796      0.571429      0.978310  ...               -0.991881   \n",
      "128797      0.571429      0.979005  ...               -0.991881   \n",
      "128798      0.571429      0.979699  ...               -0.991881   \n",
      "128799      0.571429      0.980394  ...               -0.991881   \n",
      "\n",
      "        sleep_onset_minutes  rise_time_minutes     Steps  Non_Wear     Sleep  \\\n",
      "0                  0.026697           0.505671 -0.818864 -0.106249  0.012647   \n",
      "1                  0.026697           0.505671 -0.818864 -0.106249  0.012647   \n",
      "2                  0.026697           0.505671 -0.818864 -0.106249  0.012647   \n",
      "3                  0.026697           0.505671 -0.818864 -0.106249  0.012647   \n",
      "4                  0.026697           0.505671 -0.818864 -0.106249  0.012647   \n",
      "...                     ...                ...       ...       ...       ...   \n",
      "128795            -1.519872          -0.590515  0.318807 -0.106249 -1.752010   \n",
      "128796            -1.519872          -0.590515  0.318807 -0.106249 -1.752010   \n",
      "128797            -1.519872          -0.590515  0.318807 -0.106249 -1.752010   \n",
      "128798            -1.519872          -0.590515  0.318807 -0.106249 -1.752010   \n",
      "128799            -1.519872          -0.590515  0.318807 -0.106249 -1.752010   \n",
      "\n",
      "        Sedentary     Light  Moderate  Vigorous  \n",
      "0        0.687672 -0.787731 -0.260587 -0.026414  \n",
      "1        0.687672 -0.787731 -0.260587 -0.026414  \n",
      "2        0.687672 -0.787731 -0.260587 -0.026414  \n",
      "3        0.687672 -0.787731 -0.260587 -0.026414  \n",
      "4        0.687672 -0.787731 -0.260587 -0.026414  \n",
      "...           ...       ...       ...       ...  \n",
      "128795   2.468640 -0.068513 -0.210814  0.013590  \n",
      "128796   2.468640 -0.068513 -0.210814  0.013590  \n",
      "128797   2.468640 -0.068513 -0.210814  0.013590  \n",
      "128798   2.468640 -0.068513 -0.210814  0.013590  \n",
      "128799   2.468640 -0.068513 -0.210814  0.013590  \n",
      "\n",
      "[128800 rows x 27 columns]\n",
      "2576\n"
     ]
    }
   ],
   "source": [
    "label_seqs(csv_file=\"minute_data_007_youcef/sleep+encoded.csv\", loc=\"minute_data_007_youcef/sleep+encoded_labels.csv\")"
   ]
  },
  {
   "cell_type": "code",
   "execution_count": null,
   "id": "51a52819-30dd-46b9-a038-099b031b5be8",
   "metadata": {},
   "outputs": [],
   "source": []
  }
 ],
 "metadata": {
  "kernelspec": {
   "display_name": "virtual_env2",
   "language": "python",
   "name": "virtual_env"
  },
  "language_info": {
   "codemirror_mode": {
    "name": "ipython",
    "version": 3
   },
   "file_extension": ".py",
   "mimetype": "text/x-python",
   "name": "python",
   "nbconvert_exporter": "python",
   "pygments_lexer": "ipython3",
   "version": "3.12.3"
  }
 },
 "nbformat": 4,
 "nbformat_minor": 5
}
