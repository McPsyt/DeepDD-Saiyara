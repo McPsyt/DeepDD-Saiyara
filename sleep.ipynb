{
 "cells": [
  {
   "cell_type": "code",
   "execution_count": 27,
   "id": "a8b1e281",
   "metadata": {},
   "outputs": [],
   "source": [
    "import pandas as pd\n",
    "import numpy as np\n",
    "import torch"
   ]
  },
  {
   "cell_type": "code",
   "execution_count": 28,
   "id": "3d32be68-684c-4bb8-9744-be91974516d6",
   "metadata": {},
   "outputs": [],
   "source": [
    "df_sleep = pd.read_csv(\"minute_data_007/007_longitudinal_df.csv\")\n",
    "df_encoded = pd.read_csv(\"minute_data_007/encoded.csv\")"
   ]
  },
  {
   "cell_type": "code",
   "execution_count": 29,
   "id": "70cd417f-2bc0-43d1-ae02-65aa22210a8e",
   "metadata": {},
   "outputs": [],
   "source": [
    "def format_date(date_string):\n",
    "    splitted = date_string.split(\"/\")\n",
    "    new_string = splitted[2]+\"-\"+splitted[1]+\"-\"+splitted[0]\n",
    "    return new_string\n"
   ]
  },
  {
   "cell_type": "code",
   "execution_count": 30,
   "id": "34dec518-d8df-4f43-b519-77d711b2f777",
   "metadata": {},
   "outputs": [],
   "source": [
    "df_sleep[\"Date\"] = df_sleep[\"Date\"].apply(format_date)\n",
    "df_sleep[\"date_only\"] = df_sleep[\"Date\"]"
   ]
  },
  {
   "cell_type": "code",
   "execution_count": 31,
   "id": "f5cfcf55-a4cb-4c54-a545-387a581cb59c",
   "metadata": {},
   "outputs": [
    {
     "name": "stdout",
     "output_type": "stream",
     "text": [
      "        Unnamed: 0.2  Unnamed: 0.1  Unnamed: 0                     date  \\\n",
      "0                  0             0       39524  2024-08-20 00:00:34:000   \n",
      "1                  1             1       39525  2024-08-20 00:01:34:000   \n",
      "2                  2             2       39526  2024-08-20 00:02:34:000   \n",
      "3                  3             3       39527  2024-08-20 00:03:34:000   \n",
      "4                  4             4       39528  2024-08-20 00:04:34:000   \n",
      "...              ...           ...         ...                      ...   \n",
      "128823        132117        132117      171641  2025-01-10 23:55:46:000   \n",
      "128824        132118        132118      171642  2025-01-10 23:56:46:000   \n",
      "128825        132119        132119      171643  2025-01-10 23:57:46:000   \n",
      "128826        132120        132120      171644  2025-01-10 23:58:46:000   \n",
      "128827        132121        132121      171645  2025-01-10 23:59:46:000   \n",
      "\n",
      "        Accelerometer_X  Accelerometer_Y  Accelerometer_Z  Light_Lux  \\\n",
      "0              0.585266        -1.260331        -1.284684  -0.094671   \n",
      "1              0.586307        -1.260549        -1.283823  -0.094671   \n",
      "2              0.587348        -1.260114        -1.283479  -0.094671   \n",
      "3              0.588041        -1.259679        -1.283823  -0.094671   \n",
      "4              0.588908        -1.259679        -1.282618  -0.094671   \n",
      "...                 ...              ...              ...        ...   \n",
      "128823         1.594117         0.647339        -0.674413  -0.094671   \n",
      "128824         1.593944         0.647557        -0.674413  -0.094671   \n",
      "128825         1.593597         0.647775        -0.674413  -0.094671   \n",
      "128826         1.593944         0.647775        -0.674068  -0.094671   \n",
      "128827         1.594117         0.647557        -0.673724  -0.094671   \n",
      "\n",
      "        Temperature_C   date_only  ... Median.Activity.Length  \\\n",
      "0            0.852032  2024-08-20  ...                     90   \n",
      "1            0.904552  2024-08-20  ...                     90   \n",
      "2            0.904552  2024-08-20  ...                     90   \n",
      "3            0.904552  2024-08-20  ...                     90   \n",
      "4            0.904552  2024-08-20  ...                     90   \n",
      "...               ...         ...  ...                    ...   \n",
      "128823       1.587308  2025-01-10  ...                     72   \n",
      "128824       1.587308  2025-01-10  ...                     72   \n",
      "128825       1.587308  2025-01-10  ...                     72   \n",
      "128826       1.587308  2025-01-10  ...                     72   \n",
      "128827       1.587308  2025-01-10  ...                     72   \n",
      "\n",
      "        sleep_onset_minutes  rise_time_minutes Steps Non_Wear  Sleep  \\\n",
      "0                       -51                644  2827        0  25289   \n",
      "1                       -51                644  2827        0  25289   \n",
      "2                       -51                644  2827        0  25289   \n",
      "3                       -51                644  2827        0  25289   \n",
      "4                       -51                644  2827        0  25289   \n",
      "...                     ...                ...   ...      ...    ...   \n",
      "128823                 -387                406  6567        0   7001   \n",
      "128824                 -387                406  6567        0   7001   \n",
      "128825                 -387                406  6567        0   7001   \n",
      "128826                 -387                406  6567        0   7001   \n",
      "128827                 -387                406  6567        0   7001   \n",
      "\n",
      "        Sedentary  Light  Moderate  Vigorous  \n",
      "0           44024  12110      4286       108  \n",
      "1           44024  12110      4286       108  \n",
      "2           44024  12110      4286       108  \n",
      "3           44024  12110      4286       108  \n",
      "4           44024  12110      4286       108  \n",
      "...           ...    ...       ...       ...  \n",
      "128823      59080  16272      4402       119  \n",
      "128824      59080  16272      4402       119  \n",
      "128825      59080  16272      4402       119  \n",
      "128826      59080  16272      4402       119  \n",
      "128827      59080  16272      4402       119  \n",
      "\n",
      "[128828 rows x 31 columns]\n"
     ]
    }
   ],
   "source": [
    "df = pd.merge(df_encoded, df_sleep, on='date_only', how='inner')\n",
    "print(df)"
   ]
  },
  {
   "cell_type": "code",
   "execution_count": 32,
   "id": "600f0e4f-7fa5-4a93-9f62-04fb078a2395",
   "metadata": {},
   "outputs": [],
   "source": [
    "df.to_csv(\"sleep+encoded.csv\")"
   ]
  },
  {
   "cell_type": "code",
   "execution_count": null,
   "id": "b92391cf-7eeb-427b-92b2-887e746f0419",
   "metadata": {},
   "outputs": [],
   "source": []
  }
 ],
 "metadata": {
  "kernelspec": {
   "display_name": "virtual_env2",
   "language": "python",
   "name": "virtual_env"
  },
  "language_info": {
   "codemirror_mode": {
    "name": "ipython",
    "version": 3
   },
   "file_extension": ".py",
   "mimetype": "text/x-python",
   "name": "python",
   "nbconvert_exporter": "python",
   "pygments_lexer": "ipython3",
   "version": "3.12.3"
  }
 },
 "nbformat": 4,
 "nbformat_minor": 5
}
