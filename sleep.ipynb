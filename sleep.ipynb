{
 "cells": [
  {
   "cell_type": "code",
   "execution_count": 21,
   "id": "a8b1e281",
   "metadata": {},
   "outputs": [],
   "source": [
    "import pandas as pd\n",
    "import numpy as np\n",
    "import torch\n",
    "import math"
   ]
  },
  {
   "cell_type": "code",
   "execution_count": 23,
   "id": "70cd417f-2bc0-43d1-ae02-65aa22210a8e",
   "metadata": {},
   "outputs": [],
   "source": [
    "def format_date(date_string):\n",
    "    splitted = date_string.split(\"/\")\n",
    "    new_string = splitted[2]+\"-\"+splitted[1]+\"-\"+splitted[0]\n",
    "    return new_string\n"
   ]
  },
  {
   "cell_type": "code",
   "execution_count": 24,
   "id": "4f8cab70-f8e7-42a8-a546-6b955feb9c87",
   "metadata": {},
   "outputs": [],
   "source": [
    "def time_encoding(time):\n",
    "    splitted = time.split(\":\")\n",
    "    hour = int(splitted[0])\n",
    "    minute = int(splitted[1])\n",
    "    second = int(splitted[2])\n",
    "    l = [hour, minute, second]\n",
    "    arr = np.array(l, dtype=np.float64)\n",
    "\n",
    "    arr[1] /= 60\n",
    "    arr[2] /= 3600\n",
    "\n",
    "\n",
    "    total_hours = arr[0] + arr[1] + arr[2]\n",
    "\n",
    "    return total_hours/24"
   ]
  },
  {
   "cell_type": "code",
   "execution_count": 25,
   "id": "158a3d50-11a2-4799-a1cf-bf96891c3273",
   "metadata": {},
   "outputs": [],
   "source": [
    "def features_encoding(df, feature):\n",
    "    df[feature] = df[feature].astype(float)\n",
    "    mean = df[feature].mean()\n",
    "    sd = math.sqrt(df[feature].var())\n",
    "    df[feature] = (df[feature]-mean)/sd\n",
    "    return df"
   ]
  },
  {
   "cell_type": "code",
   "execution_count": 33,
   "id": "3d32be68-684c-4bb8-9744-be91974516d6",
   "metadata": {},
   "outputs": [],
   "source": [
    "df_sleep = pd.read_csv(\"minute_data_007_youcef/007_longitudinal_df_dylan.csv\")\n",
    "df_encoded = pd.read_csv(\"minute_data_007_youcef/encoded.csv\")"
   ]
  },
  {
   "cell_type": "code",
   "execution_count": 34,
   "id": "34dec518-d8df-4f43-b519-77d711b2f777",
   "metadata": {},
   "outputs": [],
   "source": [
    "df_sleep[\"Date\"] = df_sleep[\"Date\"].apply(format_date)\n",
    "df_sleep[\"date_only\"] = df_sleep[\"Date\"]\n",
    "df_sleep[\"Sleep.Onset.Time\"] = df_sleep[\"Sleep.Onset.Time\"].apply(time_encoding)\n",
    "df_sleep[\"Rise.Time\"] = df_sleep[\"Rise.Time\"].apply(time_encoding)\n",
    "\n",
    "for i in range(3, len(df_sleep.columns)-1):\n",
    "    df_sleep = features_encoding(df_sleep, df_sleep.columns[i])\n",
    "    \n",
    "    "
   ]
  },
  {
   "cell_type": "code",
   "execution_count": 35,
   "id": "f5cfcf55-a4cb-4c54-a545-387a581cb59c",
   "metadata": {},
   "outputs": [
    {
     "name": "stdout",
     "output_type": "stream",
     "text": [
      "        Unnamed: 0.2  Unnamed: 0.1  Unnamed: 0                     date  \\\n",
      "0                  0             0       39524  2024-08-20 00:00:34:000   \n",
      "1                  1             1       39525  2024-08-20 00:01:34:000   \n",
      "2                  2             2       39526  2024-08-20 00:02:34:000   \n",
      "3                  3             3       39527  2024-08-20 00:03:34:000   \n",
      "4                  4             4       39528  2024-08-20 00:04:34:000   \n",
      "...              ...           ...         ...                      ...   \n",
      "128823        132117        132117      171641  2025-01-10 23:55:46:000   \n",
      "128824        132118        132118      171642  2025-01-10 23:56:46:000   \n",
      "128825        132119        132119      171643  2025-01-10 23:57:46:000   \n",
      "128826        132120        132120      171644  2025-01-10 23:58:46:000   \n",
      "128827        132121        132121      171645  2025-01-10 23:59:46:000   \n",
      "\n",
      "        Accelerometer_X  Accelerometer_Y  Accelerometer_Z  Light_Lux  \\\n",
      "0              0.585266        -1.260331        -1.284684  -0.094671   \n",
      "1              0.586307        -1.260549        -1.283823  -0.094671   \n",
      "2              0.587348        -1.260114        -1.283479  -0.094671   \n",
      "3              0.588041        -1.259679        -1.283823  -0.094671   \n",
      "4              0.588908        -1.259679        -1.282618  -0.094671   \n",
      "...                 ...              ...              ...        ...   \n",
      "128823         1.594117         0.647339        -0.674413  -0.094671   \n",
      "128824         1.593944         0.647557        -0.674413  -0.094671   \n",
      "128825         1.593597         0.647775        -0.674413  -0.094671   \n",
      "128826         1.593944         0.647775        -0.674068  -0.094671   \n",
      "128827         1.594117         0.647557        -0.673724  -0.094671   \n",
      "\n",
      "        Temperature_C   date_only  ... Median.Activity.Length  \\\n",
      "0            0.852032  2024-08-20  ...              -0.511939   \n",
      "1            0.904552  2024-08-20  ...              -0.511939   \n",
      "2            0.904552  2024-08-20  ...              -0.511939   \n",
      "3            0.904552  2024-08-20  ...              -0.511939   \n",
      "4            0.904552  2024-08-20  ...              -0.511939   \n",
      "...               ...         ...  ...                    ...   \n",
      "128823       1.587308  2025-01-10  ...              -0.991881   \n",
      "128824       1.587308  2025-01-10  ...              -0.991881   \n",
      "128825       1.587308  2025-01-10  ...              -0.991881   \n",
      "128826       1.587308  2025-01-10  ...              -0.991881   \n",
      "128827       1.587308  2025-01-10  ...              -0.991881   \n",
      "\n",
      "        sleep_onset_minutes  rise_time_minutes     Steps  Non_Wear     Sleep  \\\n",
      "0                  0.026697           0.505671 -0.818864 -0.106249  0.012647   \n",
      "1                  0.026697           0.505671 -0.818864 -0.106249  0.012647   \n",
      "2                  0.026697           0.505671 -0.818864 -0.106249  0.012647   \n",
      "3                  0.026697           0.505671 -0.818864 -0.106249  0.012647   \n",
      "4                  0.026697           0.505671 -0.818864 -0.106249  0.012647   \n",
      "...                     ...                ...       ...       ...       ...   \n",
      "128823            -1.519872          -0.590515  0.318807 -0.106249 -1.752010   \n",
      "128824            -1.519872          -0.590515  0.318807 -0.106249 -1.752010   \n",
      "128825            -1.519872          -0.590515  0.318807 -0.106249 -1.752010   \n",
      "128826            -1.519872          -0.590515  0.318807 -0.106249 -1.752010   \n",
      "128827            -1.519872          -0.590515  0.318807 -0.106249 -1.752010   \n",
      "\n",
      "        Sedentary     Light  Moderate  Vigorous  \n",
      "0        0.687672 -0.787731 -0.260587 -0.026414  \n",
      "1        0.687672 -0.787731 -0.260587 -0.026414  \n",
      "2        0.687672 -0.787731 -0.260587 -0.026414  \n",
      "3        0.687672 -0.787731 -0.260587 -0.026414  \n",
      "4        0.687672 -0.787731 -0.260587 -0.026414  \n",
      "...           ...       ...       ...       ...  \n",
      "128823   2.468640 -0.068513 -0.210814  0.013590  \n",
      "128824   2.468640 -0.068513 -0.210814  0.013590  \n",
      "128825   2.468640 -0.068513 -0.210814  0.013590  \n",
      "128826   2.468640 -0.068513 -0.210814  0.013590  \n",
      "128827   2.468640 -0.068513 -0.210814  0.013590  \n",
      "\n",
      "[128828 rows x 31 columns]\n"
     ]
    }
   ],
   "source": [
    "df = pd.merge(df_encoded, df_sleep, on='date_only', how='inner')\n",
    "print(df)"
   ]
  },
  {
   "cell_type": "code",
   "execution_count": 36,
   "id": "600f0e4f-7fa5-4a93-9f62-04fb078a2395",
   "metadata": {},
   "outputs": [],
   "source": [
    "df = df.drop(columns=['Unnamed: 0.2', 'Unnamed: 0.1', 'Unnamed: 0', \"Date\"])\n",
    "df.to_csv(\"sleep+encoded.csv\", index = False)"
   ]
  },
  {
   "cell_type": "code",
   "execution_count": null,
   "id": "80f0c808-503c-4eef-a74b-57607be3c557",
   "metadata": {},
   "outputs": [],
   "source": []
  }
 ],
 "metadata": {
  "kernelspec": {
   "display_name": "virtual_env2",
   "language": "python",
   "name": "virtual_env"
  },
  "language_info": {
   "codemirror_mode": {
    "name": "ipython",
    "version": 3
   },
   "file_extension": ".py",
   "mimetype": "text/x-python",
   "name": "python",
   "nbconvert_exporter": "python",
   "pygments_lexer": "ipython3",
   "version": "3.12.3"
  }
 },
 "nbformat": 4,
 "nbformat_minor": 5
}
