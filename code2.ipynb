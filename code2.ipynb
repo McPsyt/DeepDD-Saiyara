{
 "cells": [
  {
   "cell_type": "code",
   "execution_count": 8,
   "id": "6936032d-d8b3-4cf6-ab12-2f12e54e62f9",
   "metadata": {
    "ExecuteTime": {
     "end_time": "2025-08-18T17:04:24.477274Z",
     "start_time": "2025-08-18T17:03:01.320956Z"
    }
   },
   "outputs": [],
   "source": [
    "import torch\n",
    "import torch.nn as nn\n",
    "from torch.utils.data import Dataset, DataLoader, random_split\n",
    "import pandas as pd\n",
    "import numpy as np\n",
    "import math"
   ]
  },
  {
   "cell_type": "code",
   "execution_count": 2,
   "id": "5fa1910f",
   "metadata": {},
   "outputs": [],
   "source": [
    "from datetime import datetime"
   ]
  },
  {
   "cell_type": "code",
   "execution_count": 3,
   "id": "6c1fd5d2-fad7-49b0-beaa-a79892d801ac",
   "metadata": {},
   "outputs": [],
   "source": [
    "def get_df(parquet):\n",
    "    df = pd.read_parquet(parquet)\n",
    "\n",
    "    actual_first_row = df.columns.to_list()\n",
    "    new_headers = [\"date_time\", \"A\", \"B\", \"C\", \"D\", \"E\", \"F\"]\n",
    "    df.columns = new_headers\n",
    "    df.loc[-1] = actual_first_row\n",
    "    df.index = df.index + 1\n",
    "    df = df.sort_index()\n",
    "    df.columns = new_headers\n",
    "\n",
    "    return df"
   ]
  },
  {
   "cell_type": "code",
   "execution_count": 4,
   "id": "322e42e8-ed0e-4730-b37d-dc7daf47f93f",
   "metadata": {
    "ExecuteTime": {
     "end_time": "2025-08-18T17:09:58.801231Z",
     "start_time": "2025-08-18T17:09:58.798876Z"
    }
   },
   "outputs": [],
   "source": [
    "class RecurrentNetwork(nn.Module):\n",
    "    def __init__(self, seq_length, hidden_size, num_layers):\n",
    "        self.rnn = nn.RNN(input_size=seq_length, hidden_size=hidden_size, num_layers=num_layers, batch_first=True,  nonlinearity='relu')\n",
    "    \n",
    "    def forward(self, x):\n",
    "        return self.rnn(x)"
   ]
  },
  {
   "cell_type": "code",
   "execution_count": 5,
   "id": "b86ff9ee-7f8a-404b-867a-b0d687e15d5f",
   "metadata": {
    "ExecuteTime": {
     "end_time": "2025-08-18T17:10:06.604071Z",
     "start_time": "2025-08-18T17:10:06.602286Z"
    }
   },
   "outputs": [],
   "source": [
    "class PatientDataset(Dataset):\n",
    "    def __init__(self, df_as_np, seq_len):\n",
    "        self.data = df_as_np\n",
    "      \n",
    "        self.seq_len = seq_len\n",
    "    def __len__(self):\n",
    "        return len(self.data)\n",
    "    def __getitem__(self, idx):\n",
    "        return self.data[idx:idx+self.seq_len]\n"
   ]
  },
  {
   "cell_type": "code",
   "execution_count": 6,
   "id": "db58e6d0-2c32-4597-ae8c-7fb01ca52f08",
   "metadata": {
    "ExecuteTime": {
     "end_time": "2025-08-18T17:10:10.342705Z",
     "start_time": "2025-08-18T17:10:10.340764Z"
    }
   },
   "outputs": [],
   "source": [
    "def load_patient_data(df_as_np, seq_len, batch_size=100):\n",
    "    dataset = PatientDataset(df_as_np, seq_len)\n",
    "    train_size = int(0.8 * len(dataset))\n",
    "    val_size = int(0.1 * len(dataset))\n",
    "    test_size = len(dataset) - train_size - val_size\n",
    "    train_dataset, val_dataset, test_dataset = random_split(dataset, [train_size, val_size, test_size])\n",
    "\n",
    "    trainloader = DataLoader(train_dataset, batch_size=batch_size, shuffle=True)\n",
    "    valloader = DataLoader(val_dataset, batch_size=batch_size, shuffle=False)\n",
    "    testloader = DataLoader(test_dataset, batch_size=batch_size, shuffle=False)\n",
    "\n",
    "    return trainloader, valloader, testloader"
   ]
  },
  {
   "cell_type": "code",
   "execution_count": 7,
   "id": "1f450738",
   "metadata": {},
   "outputs": [],
   "source": [
    "def date_encoding(date_time_string):\n",
    "    date_string = date_time_string.split(\" \")[0]\n",
    "    date_object = datetime.strptime(date_string, \"%Y-%m-%d\")\n",
    "    return date_object.weekday()/7"
   ]
  },
  {
   "cell_type": "code",
   "execution_count": 8,
   "id": "ae97dab6",
   "metadata": {},
   "outputs": [],
   "source": [
    "def time_encoding(date_time_string):\n",
    "    time = date_time_string.split(\" \")[1]\n",
    "    splitted = time.split(\":\")\n",
    "    hour = int(splitted[0])\n",
    "    minute = int(splitted[1])\n",
    "    second = int(splitted[2])\n",
    "    millisecond = int(splitted[3])\n",
    "    l = [hour, minute, second, millisecond]\n",
    "    arr = np.array(l, dtype=np.float64)\n",
    "\n",
    "    arr[1] /= 60\n",
    "    arr[2] /= 3600\n",
    "    arr[3] /= 3600000\n",
    "\n",
    "    total_hours = arr[0] + arr[1] + arr[2] + arr[3]\n",
    "\n",
    "    return total_hours/24"
   ]
  },
  {
   "cell_type": "code",
   "execution_count": 9,
   "id": "d042c15b",
   "metadata": {},
   "outputs": [],
   "source": [
    "def actiography_features_encoding(df, feature):\n",
    "    df[feature] = df[feature].astype(float)\n",
    "    mean = df[feature].mean()\n",
    "    sd = math.sqrt(df[feature].var())\n",
    "    df[feature] = (df[feature]-mean)/sd\n",
    "    return df"
   ]
  },
  {
   "cell_type": "code",
   "execution_count": null,
   "id": "b3f512cd",
   "metadata": {},
   "outputs": [],
   "source": [
    "def encode_df_to_array(df):\n",
    "    df[\"date_encoded\"] = df[\"date_time\"].apply(date_encoding)\n",
    "    df[\"time_encoded\"] = df[\"date_time\"].apply(time_encoding)\n",
    "    actiography_features = [\"A\", \"B\", \"C\", \"D\", \"E\", \"F\"]\n",
    "\n",
    "    for f in actiography_features:\n",
    "        if f != \"E\":\n",
    "            df = actiography_features_encoding(df=df, feature=f)\n",
    "\n",
    "    return df"
   ]
  },
  {
   "cell_type": "code",
   "execution_count": 37,
   "id": "d7e7fc01",
   "metadata": {},
   "outputs": [
    {
     "name": "stdout",
     "output_type": "stream",
     "text": [
      "                       date_time         A         B         C         D    E  \\\n",
      "index                                                                           \n",
      "0        2024-08-20 13:13:48:000  1.539785 -0.702989 -1.288003 -0.102814  0.0   \n",
      "1        2024-08-20 13:13:48:020  1.715609 -0.899471 -1.261651 -0.113405  0.0   \n",
      "2        2024-08-20 13:13:48:040  1.659757 -0.825892 -1.221955 -0.121347  0.0   \n",
      "3        2024-08-20 13:13:48:060  1.739603 -0.801230 -1.221955 -0.121347  0.0   \n",
      "4        2024-08-20 13:13:48:080  1.731739 -0.809383 -1.307851 -0.129290  0.0   \n",
      "...                          ...       ...       ...       ...       ...  ...   \n",
      "8170495  2024-08-22 10:37:17:900 -0.425730  0.680335 -0.977277  2.837380  0.0   \n",
      "8170496  2024-08-22 10:37:17:920 -0.489647  0.655673 -0.997125  2.837380  0.0   \n",
      "8170497  2024-08-22 10:37:17:940 -0.425730  0.655673 -0.970773  2.837380  0.0   \n",
      "8170498  2024-08-22 10:37:17:960 -0.425730  0.704793 -0.990620  2.837380  0.0   \n",
      "8170499  2024-08-22 10:37:17:980 -0.473718  0.680335 -1.043492  2.837380  0.0   \n",
      "\n",
      "                F  date_encoded  time_encoded        date  \n",
      "index                                                      \n",
      "0        1.599427      0.142857      0.551250  2024-08-20  \n",
      "1        1.599427      0.142857      0.551250  2024-08-20  \n",
      "2        1.599427      0.142857      0.551250  2024-08-20  \n",
      "3        1.599427      0.142857      0.551251  2024-08-20  \n",
      "4        1.599427      0.142857      0.551251  2024-08-20  \n",
      "...           ...           ...           ...         ...  \n",
      "8170495 -0.689406      0.428571      0.442568  2024-08-22  \n",
      "8170496 -0.689406      0.428571      0.442569  2024-08-22  \n",
      "8170497 -0.689406      0.428571      0.442569  2024-08-22  \n",
      "8170498 -0.689406      0.428571      0.442569  2024-08-22  \n",
      "8170499 -0.689406      0.428571      0.442569  2024-08-22  \n",
      "\n",
      "[8170500 rows x 10 columns]\n"
     ]
    }
   ],
   "source": [
    "df = pd.read_parquet(\"cleaned_parquet/007/Month 2/DD072024007_left wrist_101697_2024-09-18 11-15-01.parquet\")\n",
    "print(df)"
   ]
  },
  {
   "cell_type": "code",
   "execution_count": 35,
   "id": "c8c223af",
   "metadata": {},
   "outputs": [
    {
     "name": "stdout",
     "output_type": "stream",
     "text": [
      "                         date_time         A         B         C         D  \\\n",
      "index                                                                        \n",
      "0          2024-07-23 13:16:34:000 -0.691692 -0.069835  1.108325 -0.168220   \n",
      "1          2024-07-23 13:16:34:020 -0.682757 -0.038617  1.108325 -0.168220   \n",
      "2          2024-07-23 13:16:34:040 -0.673822 -0.030714  1.127044 -0.168220   \n",
      "3          2024-07-23 13:16:34:060 -0.665111 -0.030714  1.127044 -0.168220   \n",
      "4          2024-07-23 13:16:34:080 -0.665111 -0.062130  1.139366 -0.166802   \n",
      "...                            ...       ...       ...       ...       ...   \n",
      "120938395  2024-08-20 13:09:21:900  0.699042  2.226066 -0.596272 -0.196660   \n",
      "120938396  2024-08-20 13:09:21:920  0.468743  1.724406 -0.453234 -0.195242   \n",
      "120938397  2024-08-20 13:09:21:940  0.096599  1.849870 -0.440755 -0.193824   \n",
      "120938398  2024-08-20 13:09:21:960  0.149763  1.269967 -0.789225 -0.193824   \n",
      "120938399  2024-08-20 13:09:21:980  0.300318  0.956602 -0.894982 -0.192407   \n",
      "\n",
      "             E         F  date_encoded  time_encoded        date  \n",
      "index                                                             \n",
      "0          0.0  2.391988      0.142857      0.553171  2024-07-23  \n",
      "1          0.0  2.391988      0.142857      0.553172  2024-07-23  \n",
      "2          0.0  2.391988      0.142857      0.553172  2024-07-23  \n",
      "3          0.0  2.391988      0.142857      0.553172  2024-07-23  \n",
      "4          0.0  2.391988      0.142857      0.553172  2024-07-23  \n",
      "...        ...       ...           ...           ...         ...  \n",
      "120938395  0.0 -0.865003      0.142857      0.548170  2024-08-20  \n",
      "120938396  0.0 -0.865003      0.142857      0.548170  2024-08-20  \n",
      "120938397  0.0 -0.865003      0.142857      0.548171  2024-08-20  \n",
      "120938398  0.0 -0.865003      0.142857      0.548171  2024-08-20  \n",
      "120938399  0.0 -0.865003      0.142857      0.548171  2024-08-20  \n",
      "\n",
      "[120938400 rows x 10 columns]\n"
     ]
    }
   ],
   "source": [
    "df = pd.read_parquet(\"cleaned_parquet/007/Month 1/DD072024007_left wrist_101698_2024-08-20 13-09-13.parquet\")\n",
    "print(df)"
   ]
  },
  {
   "cell_type": "code",
   "execution_count": 9,
   "id": "6c63e6d2-234b-44a6-ac78-a718b321c941",
   "metadata": {},
   "outputs": [],
   "source": [
    "def get_seq(label, data_path, name):\n",
    "    df = pd.read_parquet(data_path)\n",
    "    df_new = df[df[\"date\"] == label]\n",
    "    df_new.to_parquet(name, index=False)\n"
   ]
  },
  {
   "cell_type": "code",
   "execution_count": 10,
   "id": "a73a0746-1b23-4c0c-bc3e-89849306b5de",
   "metadata": {},
   "outputs": [],
   "source": [
    "get_seq(\"2024-08-20\", data_path=\"cleaned_parquet/007/Month 1/DD072024007_left wrist_101698_2024-08-20 13-09-13.parquet\", name=\"20August.parquet\")"
   ]
  },
  {
   "cell_type": "code",
   "execution_count": 13,
   "id": "be41e037-892b-428a-b0fd-98bd382ae091",
   "metadata": {},
   "outputs": [],
   "source": [
    "date_string = \"2024-08-\"\n",
    "date_strings = []\n",
    "for i in range(21, 32):\n",
    "    date_strings.append(date_string + str(i))"
   ]
  },
  {
   "cell_type": "code",
   "execution_count": 14,
   "id": "1370b14a-0bdf-4536-93cd-7acf8956dc1f",
   "metadata": {},
   "outputs": [
    {
     "name": "stdout",
     "output_type": "stream",
     "text": [
      "['2024-08-21', '2024-08-22', '2024-08-23', '2024-08-24', '2024-08-25', '2024-08-26', '2024-08-27', '2024-08-28', '2024-08-29', '2024-08-30', '2024-08-31']\n"
     ]
    }
   ],
   "source": [
    "print(date_strings)"
   ]
  },
  {
   "cell_type": "code",
   "execution_count": 15,
   "id": "1be106bd-81be-4546-b284-2287ffaf5e63",
   "metadata": {},
   "outputs": [
    {
     "name": "stdout",
     "output_type": "stream",
     "text": [
      "['2024-09-0', '2024-09-1', '2024-09-2', '2024-09-3', '2024-09-4', '2024-09-5', '2024-09-6', '2024-09-7', '2024-09-8', '2024-09-9', '2024-09-10', '2024-09-11', '2024-09-12', '2024-09-13', '2024-09-14', '2024-09-15', '2024-09-16', '2024-09-17']\n"
     ]
    }
   ],
   "source": [
    "date_string = \"2024-09-\"\n",
    "date_strings = []\n",
    "for i in range(0, 18):\n",
    "    date_strings.append(date_string + str(i))\n",
    "\n",
    "print(date_strings)"
   ]
  },
  {
   "cell_type": "code",
   "execution_count": 39,
   "id": "6b7ea76b-cb69-4741-9aca-f7c831159a84",
   "metadata": {},
   "outputs": [],
   "source": [
    "get_seq(\"2024-08-23\", data_path=\"cleaned_parquet/007/Month 3/DD072024007_left wrist_101696_2024-10-22 15-22-36.parquet\", name=\"seq_daily/23August.parquet\")"
   ]
  },
  {
   "cell_type": "code",
   "execution_count": 40,
   "id": "3dfbed4a-187f-460d-9355-ed0ea3047451",
   "metadata": {},
   "outputs": [
    {
     "name": "stdout",
     "output_type": "stream",
     "text": [
      "Empty DataFrame\n",
      "Columns: [date_time, A, B, C, D, E, F, date_encoded, time_encoded, date]\n",
      "Index: []\n"
     ]
    }
   ],
   "source": [
    "df = pd.read_parquet(\"seq_daily/23August.parquet\")\n",
    "print(df)"
   ]
  },
  {
   "cell_type": "code",
   "execution_count": 42,
   "id": "1523082c-9802-4a5b-8ba5-3dae8e160101",
   "metadata": {},
   "outputs": [
    {
     "name": "stdout",
     "output_type": "stream",
     "text": [
      "                       date_time         A         B         C         D    E  \\\n",
      "index                                                                           \n",
      "0        2024-08-20 13:13:48:000  1.539785 -0.702989 -1.288003 -0.102814  0.0   \n",
      "1        2024-08-20 13:13:48:020  1.715609 -0.899471 -1.261651 -0.113405  0.0   \n",
      "2        2024-08-20 13:13:48:040  1.659757 -0.825892 -1.221955 -0.121347  0.0   \n",
      "3        2024-08-20 13:13:48:060  1.739603 -0.801230 -1.221955 -0.121347  0.0   \n",
      "4        2024-08-20 13:13:48:080  1.731739 -0.809383 -1.307851 -0.129290  0.0   \n",
      "...                          ...       ...       ...       ...       ...  ...   \n",
      "8170495  2024-08-22 10:37:17:900 -0.425730  0.680335 -0.977277  2.837380  0.0   \n",
      "8170496  2024-08-22 10:37:17:920 -0.489647  0.655673 -0.997125  2.837380  0.0   \n",
      "8170497  2024-08-22 10:37:17:940 -0.425730  0.655673 -0.970773  2.837380  0.0   \n",
      "8170498  2024-08-22 10:37:17:960 -0.425730  0.704793 -0.990620  2.837380  0.0   \n",
      "8170499  2024-08-22 10:37:17:980 -0.473718  0.680335 -1.043492  2.837380  0.0   \n",
      "\n",
      "                F  date_encoded  time_encoded        date  \n",
      "index                                                      \n",
      "0        1.599427      0.142857      0.551250  2024-08-20  \n",
      "1        1.599427      0.142857      0.551250  2024-08-20  \n",
      "2        1.599427      0.142857      0.551250  2024-08-20  \n",
      "3        1.599427      0.142857      0.551251  2024-08-20  \n",
      "4        1.599427      0.142857      0.551251  2024-08-20  \n",
      "...           ...           ...           ...         ...  \n",
      "8170495 -0.689406      0.428571      0.442568  2024-08-22  \n",
      "8170496 -0.689406      0.428571      0.442569  2024-08-22  \n",
      "8170497 -0.689406      0.428571      0.442569  2024-08-22  \n",
      "8170498 -0.689406      0.428571      0.442569  2024-08-22  \n",
      "8170499 -0.689406      0.428571      0.442569  2024-08-22  \n",
      "\n",
      "[8170500 rows x 10 columns]\n"
     ]
    }
   ],
   "source": [
    "df = pd.read_parquet(\"cleaned_parquet/007/Month 2/DD072024007_left wrist_101697_2024-09-18 11-15-01.parquet\")\n",
    "print(df)"
   ]
  },
  {
   "cell_type": "code",
   "execution_count": 43,
   "id": "f11ecc06-bdba-4df7-8756-701ad08844f3",
   "metadata": {},
   "outputs": [
    {
     "name": "stdout",
     "output_type": "stream",
     "text": [
      "                         date_time         A         B         C         D  \\\n",
      "index                                                                        \n",
      "0          2024-09-18 11:07:12:000 -1.142986 -0.077163  1.027523 -0.067997   \n",
      "1          2024-09-18 11:07:12:020 -0.990784 -0.008477  1.002565 -0.067997   \n",
      "2          2024-09-18 11:07:12:040 -0.904758 -0.260584  1.002565 -0.067997   \n",
      "3          2024-09-18 11:07:12:060 -0.865053 -0.314179  1.065039 -0.071047   \n",
      "4          2024-09-18 11:07:12:080 -0.931227 -0.337010  1.140071 -0.074287   \n",
      "...                            ...       ...       ...       ...       ...   \n",
      "128188795  2024-10-18 03:16:47:900 -1.579906  0.457623 -0.141280 -0.106497   \n",
      "128188796  2024-10-18 03:16:47:920 -1.586524  0.472908 -0.147558 -0.106497   \n",
      "128188797  2024-10-18 03:16:47:940 -1.586524  0.450077 -0.147558 -0.106497   \n",
      "128188798  2024-10-18 03:16:47:960 -1.599759  0.442337 -0.153837 -0.106497   \n",
      "128188799  2024-10-18 03:16:47:980 -1.573289  0.450077 -0.153837 -0.106497   \n",
      "\n",
      "             E         F  date_encoded  time_encoded        date  \n",
      "index                                                             \n",
      "0          0.0  1.534327      0.285714      0.463333  2024-09-18  \n",
      "1          0.0  1.534327      0.285714      0.463334  2024-09-18  \n",
      "2          0.0  1.534327      0.285714      0.463334  2024-09-18  \n",
      "3          0.0  1.534327      0.285714      0.463334  2024-09-18  \n",
      "4          0.0  1.534327      0.285714      0.463334  2024-09-18  \n",
      "...        ...       ...           ...           ...         ...  \n",
      "128188795  0.0  0.790639      0.571429      0.136666  2024-10-18  \n",
      "128188796  0.0  0.790639      0.571429      0.136666  2024-10-18  \n",
      "128188797  0.0  0.790639      0.571429      0.136666  2024-10-18  \n",
      "128188798  0.0  0.790639      0.571429      0.136666  2024-10-18  \n",
      "128188799  0.0  0.790639      0.571429      0.136666  2024-10-18  \n",
      "\n",
      "[128188800 rows x 10 columns]\n"
     ]
    }
   ],
   "source": [
    "df = pd.read_parquet(\"cleaned_parquet/007/Month 3/DD072024007_left wrist_101696_2024-10-22 15-22-36.parquet\")\n",
    "print(df)"
   ]
  },
  {
   "cell_type": "code",
   "execution_count": null,
   "id": "892aa338-74c7-423d-a61f-aea2a4638a5b",
   "metadata": {},
   "outputs": [],
   "source": []
  }
 ],
 "metadata": {
  "kernelspec": {
   "display_name": "virtual_env2",
   "language": "python",
   "name": "virtual_env"
  },
  "language_info": {
   "codemirror_mode": {
    "name": "ipython",
    "version": 3
   },
   "file_extension": ".py",
   "mimetype": "text/x-python",
   "name": "python",
   "nbconvert_exporter": "python",
   "pygments_lexer": "ipython3",
   "version": "3.12.3"
  }
 },
 "nbformat": 4,
 "nbformat_minor": 5
}
