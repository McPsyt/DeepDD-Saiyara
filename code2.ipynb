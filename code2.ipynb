{
 "cells": [
  {
   "cell_type": "code",
   "execution_count": 1,
   "id": "6936032d-d8b3-4cf6-ab12-2f12e54e62f9",
   "metadata": {
    "ExecuteTime": {
     "end_time": "2025-08-18T17:04:24.477274Z",
     "start_time": "2025-08-18T17:03:01.320956Z"
    }
   },
   "outputs": [],
   "source": [
    "import torch\n",
    "import torch.nn as nn\n",
    "from torch.utils.data import Dataset, DataLoader, random_split\n",
    "import pandas as pd\n",
    "import numpy as np\n",
    "import math"
   ]
  },
  {
   "cell_type": "code",
   "execution_count": 2,
   "id": "5fa1910f",
   "metadata": {},
   "outputs": [],
   "source": [
    "from datetime import datetime"
   ]
  },
  {
   "cell_type": "code",
   "execution_count": 4,
   "id": "6c1fd5d2-fad7-49b0-beaa-a79892d801ac",
   "metadata": {},
   "outputs": [],
   "source": [
    "def get_df(parquet):\n",
    "    df = pd.read_parquet(parquet)\n",
    "\n",
    "    actual_first_row = df.columns.to_list()\n",
    "    new_headers = [\"date_time\", \"A\", \"B\", \"C\", \"D\", \"E\", \"F\"]\n",
    "    df.columns = new_headers\n",
    "    df.loc[-1] = actual_first_row\n",
    "    df.index = df.index + 1\n",
    "    df = df.sort_index()\n",
    "    df.columns = new_headers\n",
    "\n",
    "    return df"
   ]
  },
  {
   "cell_type": "code",
   "execution_count": 5,
   "id": "322e42e8-ed0e-4730-b37d-dc7daf47f93f",
   "metadata": {
    "ExecuteTime": {
     "end_time": "2025-08-18T17:09:58.801231Z",
     "start_time": "2025-08-18T17:09:58.798876Z"
    }
   },
   "outputs": [],
   "source": [
    "class RecurrentNetwork(nn.Module):\n",
    "    def __init__(self, seq_length, hidden_size, num_layers):\n",
    "        self.rnn = nn.RNN(input_size=seq_length, hidden_size=hidden_size, num_layers=num_layers, batch_first=True,  nonlinearity='relu')\n",
    "    \n",
    "    def forward(self, x):\n",
    "        return self.rnn(x)"
   ]
  },
  {
   "cell_type": "code",
   "execution_count": 23,
   "id": "b86ff9ee-7f8a-404b-867a-b0d687e15d5f",
   "metadata": {
    "ExecuteTime": {
     "end_time": "2025-08-18T17:10:06.604071Z",
     "start_time": "2025-08-18T17:10:06.602286Z"
    }
   },
   "outputs": [],
   "source": [
    "class PatientDataset(Dataset):\n",
    "    def __init__(self, df_as_np, seq_len):\n",
    "        self.data = df_as_np\n",
    "      \n",
    "        self.seq_len = seq_len\n",
    "    def __len__(self):\n",
    "        return len(self.data)\n",
    "    def __getitem__(self, idx):\n",
    "        return self.data[idx:idx+self.seq_len]\n"
   ]
  },
  {
   "cell_type": "code",
   "execution_count": 7,
   "id": "db58e6d0-2c32-4597-ae8c-7fb01ca52f08",
   "metadata": {
    "ExecuteTime": {
     "end_time": "2025-08-18T17:10:10.342705Z",
     "start_time": "2025-08-18T17:10:10.340764Z"
    }
   },
   "outputs": [],
   "source": [
    "def load_patient_data(df_as_np, seq_len, batch_size=100):\n",
    "    dataset = PatientDataset(df_as_np, seq_len)\n",
    "    train_size = int(0.8 * len(dataset))\n",
    "    val_size = int(0.1 * len(dataset))\n",
    "    test_size = len(dataset) - train_size - val_size\n",
    "    train_dataset, val_dataset, test_dataset = random_split(dataset, [train_size, val_size, test_size])\n",
    "\n",
    "    trainloader = DataLoader(train_dataset, batch_size=batch_size, shuffle=True)\n",
    "    valloader = DataLoader(val_dataset, batch_size=batch_size, shuffle=False)\n",
    "    testloader = DataLoader(test_dataset, batch_size=batch_size, shuffle=False)\n",
    "\n",
    "    return trainloader, valloader, testloader"
   ]
  },
  {
   "cell_type": "code",
   "execution_count": 8,
   "id": "1f450738",
   "metadata": {},
   "outputs": [],
   "source": [
    "def date_encoding(date_time_string):\n",
    "    date_string = date_time_string.split(\" \")[0]\n",
    "    date_object = datetime.strptime(date_string, \"%Y-%m-%d\")\n",
    "    return date_object.weekday()/7"
   ]
  },
  {
   "cell_type": "code",
   "execution_count": 9,
   "id": "ae97dab6",
   "metadata": {},
   "outputs": [],
   "source": [
    "def time_encoding(date_time_string):\n",
    "    time = date_time_string.split(\" \")[1]\n",
    "    splitted = time.split(\":\")\n",
    "    hour = int(splitted[0])\n",
    "    minute = int(splitted[1])\n",
    "    second = int(splitted[2])\n",
    "    millisecond = int(splitted[3])\n",
    "    l = [hour, minute, second, millisecond]\n",
    "    arr = np.array(l, dtype=np.float64)\n",
    "\n",
    "    arr[1] /= 60\n",
    "    arr[2] /= 3600\n",
    "    arr[3] /= 3600000\n",
    "\n",
    "    total_hours = arr[0] + arr[1] + arr[2] + arr[3]\n",
    "\n",
    "    return total_hours/24"
   ]
  },
  {
   "cell_type": "code",
   "execution_count": 10,
   "id": "d042c15b",
   "metadata": {},
   "outputs": [],
   "source": [
    "def actiography_features_encoding(df, feature):\n",
    "    mean = df[feature].mean()\n",
    "    sd = math.sqrt(df[feature].var())\n",
    "    df[feature + \"_encoded\"] = (df[feature + \"_encoded\"]-mean)/sd\n",
    "    df.drop([feature], axis=1)\n",
    "    return df"
   ]
  },
  {
   "cell_type": "code",
   "execution_count": 11,
   "id": "b3f512cd",
   "metadata": {},
   "outputs": [],
   "source": [
    "def encode_df_to_array(df):\n",
    "    df[\"date_encoded\"] = df[\"date_time\"].apply(date_encoding)\n",
    "    df[\"time_encoded\"] = df[\"date_time\"].apply(time_encoding)\n",
    "    df.drop([\"date_time\"], axis = 1)\n",
    "    actiography_features = [\"A\", \"B\", \"C\", \"D\", \"E\", \"F\"]\n",
    "\n",
    "    for f in actiography_features:\n",
    "        df = actiography_features_encoding(df=df, feature=f)\n",
    "\n",
    "    return df"
   ]
  },
  {
   "cell_type": "code",
   "execution_count": 12,
   "id": "468bc4c6",
   "metadata": {},
   "outputs": [],
   "source": [
    "df = pd.read_parquet(\"cleaned_parquet/DD_05_2025/Month 1/DD052025022_left wrist_107718_2025-07-23 12-13-35.parquet\")\n"
   ]
  },
  {
   "cell_type": "code",
   "execution_count": 14,
   "id": "78470947",
   "metadata": {},
   "outputs": [],
   "source": [
    "df = df.drop(columns=[\"date_time\"])"
   ]
  },
  {
   "cell_type": "code",
   "execution_count": 15,
   "id": "88b2b048",
   "metadata": {},
   "outputs": [],
   "source": [
    "\n",
    "np_arr = df.to_numpy()"
   ]
  },
  {
   "cell_type": "code",
   "execution_count": 21,
   "id": "2ee0187f",
   "metadata": {},
   "outputs": [
    {
     "name": "stdout",
     "output_type": "stream",
     "text": [
      "(116011200, 8)\n"
     ]
    }
   ],
   "source": [
    "print(np_arr.shape)"
   ]
  },
  {
   "cell_type": "code",
   "execution_count": 25,
   "id": "ac68b2f3",
   "metadata": {},
   "outputs": [
    {
     "name": "stdout",
     "output_type": "stream",
     "text": [
      "tensor([[[-7.6679e-01,  6.3660e-01,  1.2277e+00,  ...,  1.7410e-01,\n",
      "           8.5714e-01,  6.9178e-01],\n",
      "         [-7.9499e-01,  6.2118e-01,  1.2474e+00,  ...,  1.7410e-01,\n",
      "           8.5714e-01,  6.9178e-01],\n",
      "         [-7.8080e-01,  6.2118e-01,  1.2540e+00,  ...,  1.7410e-01,\n",
      "           8.5714e-01,  6.9178e-01],\n",
      "         ...,\n",
      "         [-7.3859e-01,  6.1338e-01,  1.2474e+00,  ...,  1.7410e-01,\n",
      "           8.5714e-01,  6.9180e-01],\n",
      "         [-7.5278e-01,  6.0557e-01,  1.2408e+00,  ...,  1.7410e-01,\n",
      "           8.5714e-01,  6.9180e-01],\n",
      "         [-7.6679e-01,  6.2118e-01,  1.2343e+00,  ...,  1.7410e-01,\n",
      "           8.5714e-01,  6.9180e-01]],\n",
      "\n",
      "        [[ 5.6285e-01, -2.0326e+00,  1.8633e-01,  ..., -2.9709e+00,\n",
      "           7.1429e-01,  1.9199e-01],\n",
      "         [ 5.7003e-01, -2.0326e+00,  1.8633e-01,  ..., -2.9709e+00,\n",
      "           7.1429e-01,  1.9199e-01],\n",
      "         [ 5.5584e-01, -2.0170e+00,  1.9274e-01,  ..., -2.9709e+00,\n",
      "           7.1429e-01,  1.9199e-01],\n",
      "         ...,\n",
      "         [ 4.9262e-01, -2.0326e+00,  1.7976e-01,  ..., -2.9709e+00,\n",
      "           7.1429e-01,  1.9201e-01],\n",
      "         [ 4.8562e-01, -2.0326e+00,  1.5348e-01,  ..., -2.9709e+00,\n",
      "           7.1429e-01,  1.9201e-01],\n",
      "         [ 5.0663e-01, -2.0402e+00,  1.5348e-01,  ..., -2.9709e+00,\n",
      "           7.1429e-01,  1.9201e-01]],\n",
      "\n",
      "        [[-2.0390e-01, -1.6512e+00, -2.3285e-02,  ..., -7.9360e-01,\n",
      "           0.0000e+00,  8.0787e-01],\n",
      "         [-1.7588e-01, -1.7680e+00,  2.8330e-03,  ..., -7.9360e-01,\n",
      "           0.0000e+00,  8.0787e-01],\n",
      "         [-2.3910e-01, -1.9235e+00,  9.4499e-02,  ..., -7.9360e-01,\n",
      "           0.0000e+00,  8.0787e-01],\n",
      "         ...,\n",
      "         [-2.8131e-01, -1.6201e+00, -3.7697e-01,  ..., -7.9360e-01,\n",
      "           0.0000e+00,  8.0789e-01],\n",
      "         [-4.9235e-01, -1.7212e+00, -5.7362e-01,  ..., -7.9360e-01,\n",
      "           0.0000e+00,  8.0789e-01],\n",
      "         [-6.2598e-01, -2.0170e+00, -6.2602e-01,  ..., -7.9360e-01,\n",
      "           0.0000e+00,  8.0789e-01]],\n",
      "\n",
      "        ...,\n",
      "\n",
      "        [[ 8.9369e-01,  5.5894e-01, -1.3465e+00,  ...,  4.1602e-01,\n",
      "           7.1429e-01,  8.6056e-01],\n",
      "         [ 8.7249e-01,  5.4333e-01, -1.3465e+00,  ...,  4.1602e-01,\n",
      "           7.1429e-01,  8.6056e-01],\n",
      "         [ 9.0069e-01,  5.2772e-01, -1.3858e+00,  ...,  4.1602e-01,\n",
      "           7.1429e-01,  8.6056e-01],\n",
      "         ...,\n",
      "         [ 7.5988e-01,  7.8450e-01, -1.4251e+00,  ...,  4.1602e-01,\n",
      "           7.1429e-01,  8.6058e-01],\n",
      "         [ 7.5287e-01,  7.8450e-01, -1.4251e+00,  ...,  4.1602e-01,\n",
      "           7.1429e-01,  8.6058e-01],\n",
      "         [ 7.3886e-01,  8.4674e-01, -1.4185e+00,  ...,  4.1602e-01,\n",
      "           7.1429e-01,  8.6058e-01]],\n",
      "\n",
      "        [[ 7.4587e-01,  9.7903e-01, -1.2023e+00,  ...,  7.5472e-01,\n",
      "           4.2857e-01,  6.0590e-01],\n",
      "         [ 7.6688e-01,  9.7122e-01, -1.2352e+00,  ...,  7.5472e-01,\n",
      "           4.2857e-01,  6.0590e-01],\n",
      "         [ 7.4587e-01,  9.7903e-01, -1.1893e+00,  ...,  7.5472e-01,\n",
      "           4.2857e-01,  6.0590e-01],\n",
      "         ...,\n",
      "         [ 6.0506e-01,  1.0181e+00, -1.2089e+00,  ...,  7.5472e-01,\n",
      "           4.2857e-01,  6.0592e-01],\n",
      "         [ 6.0506e-01,  1.0413e+00, -1.1959e+00,  ...,  7.5472e-01,\n",
      "           4.2857e-01,  6.0592e-01],\n",
      "         [ 6.0506e-01,  1.0102e+00, -1.2089e+00,  ...,  7.5472e-01,\n",
      "           4.2857e-01,  6.0592e-01]],\n",
      "\n",
      "        [[-4.7134e-01,  1.1269e+00, -7.8324e-01,  ..., -1.2775e+00,\n",
      "           5.7143e-01,  9.7572e-01],\n",
      "         [-4.7834e-01,  1.1503e+00, -7.8964e-01,  ..., -1.2775e+00,\n",
      "           5.7143e-01,  9.7572e-01],\n",
      "         [-4.3613e-01,  1.1347e+00, -7.9621e-01,  ..., -1.2775e+00,\n",
      "           5.7143e-01,  9.7572e-01],\n",
      "         ...,\n",
      "         [-4.7134e-01,  1.1425e+00, -7.9621e-01,  ..., -1.2775e+00,\n",
      "           5.7143e-01,  9.7574e-01],\n",
      "         [-4.7834e-01,  1.1425e+00, -7.7009e-01,  ..., -1.2775e+00,\n",
      "           5.7143e-01,  9.7574e-01],\n",
      "         [-4.7134e-01,  1.1269e+00, -7.6352e-01,  ..., -1.2775e+00,\n",
      "           5.7143e-01,  9.7574e-01]]], dtype=torch.float64)\n"
     ]
    }
   ],
   "source": [
    "train, _, _ = load_patient_data(df_as_np=np_arr, seq_len=100, batch_size=100)\n",
    "\n",
    "for r in train:\n",
    "    print(r)\n",
    "    break"
   ]
  },
  {
   "cell_type": "code",
   "execution_count": null,
   "id": "2e9e8ea0",
   "metadata": {},
   "outputs": [],
   "source": []
  }
 ],
 "metadata": {
  "kernelspec": {
   "display_name": ".venv",
   "language": "python",
   "name": "python3"
  },
  "language_info": {
   "codemirror_mode": {
    "name": "ipython",
    "version": 3
   },
   "file_extension": ".py",
   "mimetype": "text/x-python",
   "name": "python",
   "nbconvert_exporter": "python",
   "pygments_lexer": "ipython3",
   "version": "3.12.3"
  }
 },
 "nbformat": 4,
 "nbformat_minor": 5
}
