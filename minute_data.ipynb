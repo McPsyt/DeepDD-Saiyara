{
 "cells": [
  {
   "cell_type": "code",
   "execution_count": 14,
   "id": "e954626a-ed91-49ee-a2f7-e01727447c99",
   "metadata": {},
   "outputs": [],
   "source": [
    "import pandas as pd"
   ]
  },
  {
   "cell_type": "code",
   "execution_count": 15,
   "id": "f26e597c-5d20-4975-b40c-d864c0ae21cd",
   "metadata": {},
   "outputs": [],
   "source": [
    "df = pd.read_csv(\"minute_data/combined_sorted_filtered.csv\")"
   ]
  },
  {
   "cell_type": "code",
   "execution_count": 16,
   "id": "cc5d5f56-3b7d-409f-8995-182a778b94ac",
   "metadata": {},
   "outputs": [],
   "source": [
    "def extract_date(date_string):\n",
    "    date = date_string.split(\" \")[0]\n",
    "    return pd.to_datetime(date)\n",
    "\n",
    "def extract_time(date_string):\n",
    "    time = date_string.split(\" \")[1]\n",
    "    return time\n",
    "    "
   ]
  },
  {
   "cell_type": "code",
   "execution_count": 19,
   "id": "0d776605-32f7-4c2e-b23a-df72a2df8280",
   "metadata": {},
   "outputs": [
    {
     "name": "stdout",
     "output_type": "stream",
     "text": [
      "        Unnamed: 0                     date  Accelerometer_X  Accelerometer_Y  \\\n",
      "0            39524  2024-08-20 00:00:34:000           0.3034          -0.6041   \n",
      "1            39525  2024-08-20 00:01:34:000           0.3040          -0.6042   \n",
      "2            39526  2024-08-20 00:02:34:000           0.3046          -0.6040   \n",
      "3            39527  2024-08-20 00:03:34:000           0.3050          -0.6038   \n",
      "4            39528  2024-08-20 00:04:34:000           0.3055          -0.6038   \n",
      "...            ...                      ...              ...              ...   \n",
      "180967      220491  2025-02-28 02:57:05:000          -0.8995           0.0101   \n",
      "180968      220492  2025-02-28 02:58:05:000          -0.8990           0.0101   \n",
      "180969      220493  2025-02-28 02:59:05:000          -0.8993           0.0097   \n",
      "180970      220494  2025-02-28 03:00:05:000          -0.8988           0.0102   \n",
      "180971      220495  2025-02-28 03:01:05:000          -0.8990           0.0102   \n",
      "\n",
      "        Accelerometer_Z  Light_Lux  Temperature_C   date_only          time  \n",
      "0               -0.7181          0           33.0  2024-08-20  00:00:34:000  \n",
      "1               -0.7176          0           33.2  2024-08-20  00:01:34:000  \n",
      "2               -0.7174          0           33.2  2024-08-20  00:02:34:000  \n",
      "3               -0.7176          0           33.2  2024-08-20  00:03:34:000  \n",
      "4               -0.7169          0           33.2  2024-08-20  00:04:34:000  \n",
      "...                 ...        ...            ...         ...           ...  \n",
      "180967           0.4528          0           31.5  2025-02-28  02:57:05:000  \n",
      "180968           0.4539          0           31.5  2025-02-28  02:58:05:000  \n",
      "180969           0.4534          0           31.5  2025-02-28  02:59:05:000  \n",
      "180970           0.4535          0           31.5  2025-02-28  03:00:05:000  \n",
      "180971           0.4539          0           31.5  2025-02-28  03:01:05:000  \n",
      "\n",
      "[180972 rows x 9 columns]\n"
     ]
    }
   ],
   "source": [
    "df[\"time\"] = df[\"date\"].apply(extract_time)\n",
    "print(df)\n",
    "df.to_csv(\"minute_data/combined_sorted_filtered.csv\")"
   ]
  },
  {
   "cell_type": "code",
   "execution_count": 4,
   "id": "88677820-3e2f-4a9a-a255-8a012d57736b",
   "metadata": {},
   "outputs": [],
   "source": [
    "def range_of_date(date):\n",
    "    labels_start_date = pd.to_datetime(\"2024-08-20\")\n",
    "    return date >= labels_start_date"
   ]
  },
  {
   "cell_type": "code",
   "execution_count": 5,
   "id": "2103c7b9-2bce-4639-b766-164adc8e1b23",
   "metadata": {},
   "outputs": [
    {
     "name": "stdout",
     "output_type": "stream",
     "text": [
      "True\n"
     ]
    }
   ],
   "source": [
    "print(range_of_date(date=pd.to_datetime(\"2024-08-21\")))"
   ]
  },
  {
   "cell_type": "code",
   "execution_count": 35,
   "id": "f05e6217-e619-4d81-a9b4-cf42079d75d4",
   "metadata": {},
   "outputs": [],
   "source": [
    "def filter(df):\n",
    "    filtered_rows = []\n",
    "    for i in range(len(df[\"date_only\"])):\n",
    "        \n",
    "        if range_of_date(df[\"date_only\"].iloc[i]):\n",
    "            filtered_rows.append(df.loc[i])\n",
    "\n",
    "    return pd.DataFrame(filtered_rows)"
   ]
  },
  {
   "cell_type": "code",
   "execution_count": 36,
   "id": "061f1663-0aa1-4fe4-a6f2-5284a9ff7a60",
   "metadata": {},
   "outputs": [],
   "source": [
    "df = filter(df)"
   ]
  },
  {
   "cell_type": "code",
   "execution_count": 39,
   "id": "7a539061-93c0-4c2f-8023-810471cc26cf",
   "metadata": {},
   "outputs": [],
   "source": [
    "df.to_csv(\"minute_data/combined_sorted_filtered.csv\")"
   ]
  },
  {
   "cell_type": "code",
   "execution_count": null,
   "id": "1ba4b1d9-2c22-46d3-a0c9-6f5a688cedf2",
   "metadata": {},
   "outputs": [],
   "source": []
  }
 ],
 "metadata": {
  "kernelspec": {
   "display_name": "Python 3 (ipykernel)",
   "language": "python",
   "name": "python3"
  },
  "language_info": {
   "codemirror_mode": {
    "name": "ipython",
    "version": 3
   },
   "file_extension": ".py",
   "mimetype": "text/x-python",
   "name": "python",
   "nbconvert_exporter": "python",
   "pygments_lexer": "ipython3",
   "version": "3.12.3"
  }
 },
 "nbformat": 4,
 "nbformat_minor": 5
}
