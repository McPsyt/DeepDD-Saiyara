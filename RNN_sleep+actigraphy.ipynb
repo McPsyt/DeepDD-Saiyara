{
 "cells": [
  {
   "cell_type": "code",
   "execution_count": 1,
   "id": "2ba265de-9012-49a0-ab17-3aaec794fd06",
   "metadata": {},
   "outputs": [],
   "source": [
    "import torch\n",
    "import torch.nn as nn\n",
    "from torch.utils.data import Dataset, DataLoader, random_split\n",
    "import pandas as pd\n",
    "import numpy as np\n",
    "import math\n",
    "import torch.optim as optim"
   ]
  },
  {
   "cell_type": "code",
   "execution_count": 2,
   "id": "85ec01e5-7bb1-4dff-ba01-a3c9be99947b",
   "metadata": {},
   "outputs": [],
   "source": [
    "d = {\n",
    "    \"good\": 0,\n",
    "    \"neutral\": 1,\n",
    "    \"bad\" : 2\n",
    "    \n",
    "}\n",
    "def encoding(label):\n",
    "    return d[label]"
   ]
  },
  {
   "cell_type": "code",
   "execution_count": null,
   "id": "2cbe5789-17a2-40df-a95f-207f81267892",
   "metadata": {},
   "outputs": [],
   "source": [
    "class RecurrentNetworkWithSleepData(nn.Module):\n",
    "    def __init__(self, seq_length, hidden_size, num_layers):\n",
    "        super(RecurrentNetwork, self).__init__()\n",
    "        self.rnn = nn.RNN(input_size=7, hidden_size=hidden_size, num_layers=num_layers, batch_first=True,  nonlinearity='relu')\n",
    "        self.classifier = nn.Sequential(\n",
    "            nn.Flatten(),\n",
    "            nn.Linear(seq_length*hidden_size + 17,3),           \n",
    "        )\n",
    "    \n",
    "    def forward(self, x):\n",
    "        encoded_actigraphy_features, _ = self.rnn(x[:, :, :7])#actigraphy features\n",
    "        sleep_features = x[:, :, 7:]\n",
    "        concatenated = torch.cat((encoded_actigraphy_features, sleep_features), dim=2)\n",
    "        return self.classifier(concatenated)"
   ]
  }
 ],
 "metadata": {
  "kernelspec": {
   "display_name": "virtual_env2",
   "language": "python",
   "name": "virtual_env"
  },
  "language_info": {
   "codemirror_mode": {
    "name": "ipython",
    "version": 3
   },
   "file_extension": ".py",
   "mimetype": "text/x-python",
   "name": "python",
   "nbconvert_exporter": "python",
   "pygments_lexer": "ipython3",
   "version": "3.12.3"
  }
 },
 "nbformat": 4,
 "nbformat_minor": 5
}
