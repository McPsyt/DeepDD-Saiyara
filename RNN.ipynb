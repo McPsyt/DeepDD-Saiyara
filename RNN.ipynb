{
 "cells": [
  {
   "cell_type": "code",
   "execution_count": 1,
   "id": "b85b8110-4962-47a4-a360-dbd6e63d0dd0",
   "metadata": {},
   "outputs": [],
   "source": [
    "import torch\n",
    "import torch.nn as nn\n",
    "from torch.utils.data import Dataset, DataLoader, random_split\n",
    "import pandas as pd\n",
    "import numpy as np\n",
    "import math\n",
    "import torch.optim as optim"
   ]
  },
  {
   "cell_type": "code",
   "execution_count": 2,
   "id": "138654d7-e834-4df8-a4fe-25eebde9c134",
   "metadata": {},
   "outputs": [],
   "source": [
    "d = {\n",
    "    \"good\": 0,\n",
    "    \"neutral\": 1,\n",
    "    \"bad\" : 2\n",
    "    \n",
    "}\n",
    "def encoding(label):\n",
    "    return d[label]"
   ]
  },
  {
   "cell_type": "code",
   "execution_count": 3,
   "id": "be53d07e-3a0a-4884-9521-71ff4df787e2",
   "metadata": {},
   "outputs": [],
   "source": [
    "class PatientDataset(Dataset):\n",
    "    def __init__(self, df_as_np, labels, seq_len):\n",
    "        self.data = df_as_np\n",
    "        self.labels = labels      \n",
    "        self.seq_len = seq_len\n",
    "    def __len__(self):\n",
    "        return len(self.data)\n",
    "    def __getitem__(self, idx):\n",
    "        return self.data[idx], self.labels[idx]"
   ]
  },
  {
   "cell_type": "code",
   "execution_count": 23,
   "id": "9ac235c7-0e1d-4d54-9f94-62fdd8ede112",
   "metadata": {},
   "outputs": [],
   "source": [
    "def load_patient_data(df_as_np, labels, seq_len, batch_size=500):\n",
    "    dataset = PatientDataset(df_as_np, labels, seq_len)\n",
    "    train_size = int(0.8 * len(dataset))\n",
    "    val_size = int(0.1 * len(dataset))\n",
    "    test_size = len(dataset) - train_size - val_size\n",
    "    train_dataset, val_dataset, test_dataset = random_split(dataset, [train_size, val_size, test_size])\n",
    "\n",
    "    trainloader = DataLoader(train_dataset, batch_size=batch_size, shuffle=True)\n",
    "    valloader = DataLoader(val_dataset, batch_size=batch_size, shuffle=False)\n",
    "    testloader = DataLoader(test_dataset, batch_size=batch_size, shuffle=False)\n",
    "\n",
    "    return trainloader, valloader, testloader"
   ]
  },
  {
   "cell_type": "code",
   "execution_count": 24,
   "id": "87a3074c-2a1b-4db7-a93f-79c946dee114",
   "metadata": {},
   "outputs": [],
   "source": [
    "class RecurrentNetwork(nn.Module):\n",
    "    def __init__(self, seq_length, hidden_size, num_layers):\n",
    "        super(RecurrentNetwork, self).__init__()\n",
    "        self.rnn = nn.RNN(input_size=8, hidden_size=hidden_size, num_layers=num_layers, batch_first=True,  nonlinearity='relu')\n",
    "        self.classifier = nn.Sequential(\n",
    "            nn.Flatten(),\n",
    "            nn.Linear(30,3),           \n",
    "        )\n",
    "    \n",
    "    def forward(self, x):\n",
    "        x, _ = self.rnn(x)\n",
    "        return self.classifier(x)"
   ]
  },
  {
   "cell_type": "code",
   "execution_count": 25,
   "id": "5a5b3f65-1eef-48f6-8103-98db792602c7",
   "metadata": {},
   "outputs": [
    {
     "name": "stdout",
     "output_type": "stream",
     "text": [
      "(4500, 10, 8)\n"
     ]
    }
   ],
   "source": [
    "df= pd.read_csv(\"cleaned_parquet/007/sample.csv\")\n",
    "\n",
    "df[\"label\"] = df[\"label\"].apply(encoding)\n",
    "df = df.drop(columns=[\"Unnamed: 0.1\", \"Unnamed: 0\", \"date_time\", \"date\"])\n",
    "df_as_np = df.to_numpy()\n",
    "df_as_np = df_as_np.reshape(4500, 10, 9)\n",
    "labels = df_as_np[:, :, 8][:, 0]\n",
    "df_as_np = df_as_np[:, :, 0:8]\n",
    "print(df_as_np.shape)"
   ]
  },
  {
   "cell_type": "code",
   "execution_count": 26,
   "id": "233f4d9e-c55a-407c-ac15-5c723869a81d",
   "metadata": {},
   "outputs": [],
   "source": [
    "def train(dataloader, lr, epochs):\n",
    "    model = RecurrentNetwork(seq_length=10, hidden_size=3, num_layers=5)\n",
    "    optimizer = optim.Adam(model.parameters(), lr=lr, weight_decay=0.001)\n",
    "    model.train()\n",
    "    criterion = nn.CrossEntropyLoss()\n",
    "    batch = 0\n",
    "    for epoch in range(epochs):\n",
    "        \n",
    "        for seq, label in dataloader:\n",
    "            optimizer.zero_grad()\n",
    "            outputs = model(seq.float())\n",
    "            loss = criterion(outputs, label.long())\n",
    "            loss.backward()\n",
    "            optimizer.step()\n",
    "            print(epoch, batch, loss.item())\n",
    "            batch += 1\n",
    "    return model"
   ]
  },
  {
   "cell_type": "code",
   "execution_count": 27,
   "id": "3e248631-f51e-4d56-ad64-bce845d57355",
   "metadata": {},
   "outputs": [],
   "source": [
    "train_loader, val_loader, test_loader = load_patient_data(df_as_np, labels, seq_len=10, batch_size=500)"
   ]
  },
  {
   "cell_type": "code",
   "execution_count": 28,
   "id": "492cf264-8752-4b64-a2da-c76f04d4f8bb",
   "metadata": {},
   "outputs": [
    {
     "name": "stdout",
     "output_type": "stream",
     "text": [
      "0 0 1.1192748546600342\n",
      "0 1 1.1224114894866943\n",
      "0 2 1.1015324592590332\n",
      "0 3 1.1014318466186523\n",
      "0 4 1.0983772277832031\n",
      "0 5 1.1023683547973633\n",
      "0 6 1.0999263525009155\n",
      "0 7 1.1077044010162354\n",
      "1 8 1.102987289428711\n",
      "1 9 1.097174048423767\n",
      "1 10 1.1025125980377197\n",
      "1 11 1.1005340814590454\n",
      "1 12 1.101534128189087\n",
      "1 13 1.1007795333862305\n",
      "1 14 1.099208950996399\n",
      "1 15 1.0997675657272339\n",
      "2 16 1.0985827445983887\n",
      "2 17 1.0986138582229614\n",
      "2 18 1.1027570962905884\n",
      "2 19 1.0985654592514038\n",
      "2 20 1.1045836210250854\n",
      "2 21 1.1008334159851074\n",
      "2 22 1.0979225635528564\n",
      "2 23 1.0956114530563354\n",
      "3 24 1.098318099975586\n",
      "3 25 1.098105549812317\n",
      "3 26 1.099797248840332\n",
      "3 27 1.100170612335205\n",
      "3 28 1.0983442068099976\n",
      "3 29 1.0990275144577026\n",
      "3 30 1.1001068353652954\n",
      "3 31 1.1037793159484863\n",
      "4 32 1.0990773439407349\n",
      "4 33 1.098301887512207\n",
      "4 34 1.0989100933074951\n",
      "4 35 1.0990291833877563\n",
      "4 36 1.1005297899246216\n",
      "4 37 1.0985257625579834\n",
      "4 38 1.099249243736267\n",
      "4 39 1.0983099937438965\n"
     ]
    }
   ],
   "source": [
    "model = train(dataloader=train_loader, lr=0.01, epochs=5)"
   ]
  },
  {
   "cell_type": "code",
   "execution_count": 29,
   "id": "6aa18fb7-1f4d-46dd-9f74-60bca3437dcf",
   "metadata": {},
   "outputs": [],
   "source": [
    "def test(model, dataloader):\n",
    "    for seq, labels in dataloader:\n",
    "        output = model(seq.float())\n",
    "        pred_labels = torch.argmax(output, dim=1)\n",
    "        acc = (pred_labels == labels).float().mean().item()\n",
    "        print(acc)"
   ]
  },
  {
   "cell_type": "code",
   "execution_count": 30,
   "id": "33fdceb6-ff38-4207-ba8d-5510a311d1af",
   "metadata": {},
   "outputs": [
    {
     "name": "stdout",
     "output_type": "stream",
     "text": [
      "0.3400000035762787\n"
     ]
    }
   ],
   "source": [
    "test(model, test_loader)"
   ]
  },
  {
   "cell_type": "code",
   "execution_count": null,
   "id": "7e1e7ae5-8b87-44a4-8b26-d0d4274ecd9a",
   "metadata": {},
   "outputs": [],
   "source": []
  }
 ],
 "metadata": {
  "kernelspec": {
   "display_name": "virtual_env2",
   "language": "python",
   "name": "virtual_env"
  },
  "language_info": {
   "codemirror_mode": {
    "name": "ipython",
    "version": 3
   },
   "file_extension": ".py",
   "mimetype": "text/x-python",
   "name": "python",
   "nbconvert_exporter": "python",
   "pygments_lexer": "ipython3",
   "version": "3.12.3"
  }
 },
 "nbformat": 4,
 "nbformat_minor": 5
}
